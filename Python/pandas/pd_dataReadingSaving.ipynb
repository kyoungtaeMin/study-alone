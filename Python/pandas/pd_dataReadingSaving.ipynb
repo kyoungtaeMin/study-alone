{
  "nbformat": 4,
  "nbformat_minor": 0,
  "metadata": {
    "colab": {
      "name": "pd.dataReadingSaving.ipynb",
      "provenance": [],
      "collapsed_sections": []
    },
    "kernelspec": {
      "name": "python3",
      "display_name": "Python 3"
    },
    "language_info": {
      "name": "python"
    }
  },
  "cells": [
    {
      "cell_type": "code",
      "metadata": {
        "id": "lkMSqSPjDtA2"
      },
      "source": [
        "import numpy as np\n",
        "import pandas as pd"
      ],
      "execution_count": 2,
      "outputs": []
    },
    {
      "cell_type": "code",
      "metadata": {
        "colab": {
          "base_uri": "https://localhost:8080/"
        },
        "id": "gzG9a4DiD28a",
        "outputId": "71c7dd9c-2e7f-4449-828e-1291c864b8a6"
      },
      "source": [
        "%%writefile example1.csv\n",
        "a, b, c, d, e, text\n",
        "1, 2, 3, 4, 5, hi\n",
        "6, 7, 8, 9, 10, pandas\n",
        "11, 12, 13, 14, 15, csv"
      ],
      "execution_count": 3,
      "outputs": [
        {
          "output_type": "stream",
          "text": [
            "Writing example1.csv\n"
          ],
          "name": "stdout"
        }
      ]
    },
    {
      "cell_type": "code",
      "metadata": {
        "colab": {
          "base_uri": "https://localhost:8080/"
        },
        "id": "evOGB15qEidb",
        "outputId": "6d6b5332-16fb-47e6-9c37-854aa9f9fa8f"
      },
      "source": [
        "!ls"
      ],
      "execution_count": 4,
      "outputs": [
        {
          "output_type": "stream",
          "text": [
            "example1.csv  sample_data\n"
          ],
          "name": "stdout"
        }
      ]
    },
    {
      "cell_type": "code",
      "metadata": {
        "colab": {
          "base_uri": "https://localhost:8080/",
          "height": 142
        },
        "id": "L7Y_BP-uEjPp",
        "outputId": "fa03ba20-d6bb-4f67-f3e8-e0970430f8cd"
      },
      "source": [
        "pd.read_csv('example1.csv')"
      ],
      "execution_count": 5,
      "outputs": [
        {
          "output_type": "execute_result",
          "data": {
            "text/html": [
              "<div>\n",
              "<style scoped>\n",
              "    .dataframe tbody tr th:only-of-type {\n",
              "        vertical-align: middle;\n",
              "    }\n",
              "\n",
              "    .dataframe tbody tr th {\n",
              "        vertical-align: top;\n",
              "    }\n",
              "\n",
              "    .dataframe thead th {\n",
              "        text-align: right;\n",
              "    }\n",
              "</style>\n",
              "<table border=\"1\" class=\"dataframe\">\n",
              "  <thead>\n",
              "    <tr style=\"text-align: right;\">\n",
              "      <th></th>\n",
              "      <th>a</th>\n",
              "      <th>b</th>\n",
              "      <th>c</th>\n",
              "      <th>d</th>\n",
              "      <th>e</th>\n",
              "      <th>text</th>\n",
              "    </tr>\n",
              "  </thead>\n",
              "  <tbody>\n",
              "    <tr>\n",
              "      <th>0</th>\n",
              "      <td>1</td>\n",
              "      <td>2</td>\n",
              "      <td>3</td>\n",
              "      <td>4</td>\n",
              "      <td>5</td>\n",
              "      <td>hi</td>\n",
              "    </tr>\n",
              "    <tr>\n",
              "      <th>1</th>\n",
              "      <td>6</td>\n",
              "      <td>7</td>\n",
              "      <td>8</td>\n",
              "      <td>9</td>\n",
              "      <td>10</td>\n",
              "      <td>pandas</td>\n",
              "    </tr>\n",
              "    <tr>\n",
              "      <th>2</th>\n",
              "      <td>11</td>\n",
              "      <td>12</td>\n",
              "      <td>13</td>\n",
              "      <td>14</td>\n",
              "      <td>15</td>\n",
              "      <td>csv</td>\n",
              "    </tr>\n",
              "  </tbody>\n",
              "</table>\n",
              "</div>"
            ],
            "text/plain": [
              "    a   b   c   d   e     text\n",
              "0   1   2   3   4   5       hi\n",
              "1   6   7   8   9  10   pandas\n",
              "2  11  12  13  14  15      csv"
            ]
          },
          "metadata": {
            "tags": []
          },
          "execution_count": 5
        }
      ]
    },
    {
      "cell_type": "code",
      "metadata": {
        "colab": {
          "base_uri": "https://localhost:8080/"
        },
        "id": "ZMNygDkAEoVA",
        "outputId": "f127f062-480e-4a3a-d0ff-01db29c37ae0"
      },
      "source": [
        "%%writefile example2.csv\n",
        "1, 2, 3, 4, 5, hi\n",
        "6, 7, 8, 9, 10, pandas\n",
        "11, 12, 13, 14, 15, csv"
      ],
      "execution_count": 6,
      "outputs": [
        {
          "output_type": "stream",
          "text": [
            "Writing example2.csv\n"
          ],
          "name": "stdout"
        }
      ]
    },
    {
      "cell_type": "code",
      "metadata": {
        "colab": {
          "base_uri": "https://localhost:8080/",
          "height": 142
        },
        "id": "-NQ7OC4gE6vR",
        "outputId": "6324b060-356b-4593-960f-0cd2050d3105"
      },
      "source": [
        "pd.read_csv('example2.csv', header=None)"
      ],
      "execution_count": 7,
      "outputs": [
        {
          "output_type": "execute_result",
          "data": {
            "text/html": [
              "<div>\n",
              "<style scoped>\n",
              "    .dataframe tbody tr th:only-of-type {\n",
              "        vertical-align: middle;\n",
              "    }\n",
              "\n",
              "    .dataframe tbody tr th {\n",
              "        vertical-align: top;\n",
              "    }\n",
              "\n",
              "    .dataframe thead th {\n",
              "        text-align: right;\n",
              "    }\n",
              "</style>\n",
              "<table border=\"1\" class=\"dataframe\">\n",
              "  <thead>\n",
              "    <tr style=\"text-align: right;\">\n",
              "      <th></th>\n",
              "      <th>0</th>\n",
              "      <th>1</th>\n",
              "      <th>2</th>\n",
              "      <th>3</th>\n",
              "      <th>4</th>\n",
              "      <th>5</th>\n",
              "    </tr>\n",
              "  </thead>\n",
              "  <tbody>\n",
              "    <tr>\n",
              "      <th>0</th>\n",
              "      <td>1</td>\n",
              "      <td>2</td>\n",
              "      <td>3</td>\n",
              "      <td>4</td>\n",
              "      <td>5</td>\n",
              "      <td>hi</td>\n",
              "    </tr>\n",
              "    <tr>\n",
              "      <th>1</th>\n",
              "      <td>6</td>\n",
              "      <td>7</td>\n",
              "      <td>8</td>\n",
              "      <td>9</td>\n",
              "      <td>10</td>\n",
              "      <td>pandas</td>\n",
              "    </tr>\n",
              "    <tr>\n",
              "      <th>2</th>\n",
              "      <td>11</td>\n",
              "      <td>12</td>\n",
              "      <td>13</td>\n",
              "      <td>14</td>\n",
              "      <td>15</td>\n",
              "      <td>csv</td>\n",
              "    </tr>\n",
              "  </tbody>\n",
              "</table>\n",
              "</div>"
            ],
            "text/plain": [
              "    0   1   2   3   4        5\n",
              "0   1   2   3   4   5       hi\n",
              "1   6   7   8   9  10   pandas\n",
              "2  11  12  13  14  15      csv"
            ]
          },
          "metadata": {
            "tags": []
          },
          "execution_count": 7
        }
      ]
    },
    {
      "cell_type": "code",
      "metadata": {
        "colab": {
          "base_uri": "https://localhost:8080/",
          "height": 142
        },
        "id": "UaZzP0XzFMGD",
        "outputId": "f85f4c92-a010-41ca-a76c-3a0c08fc3d2b"
      },
      "source": [
        "pd.read_csv('example2.csv', names=['a', 'b', 'c', 'd', 'e', 'text'])"
      ],
      "execution_count": 8,
      "outputs": [
        {
          "output_type": "execute_result",
          "data": {
            "text/html": [
              "<div>\n",
              "<style scoped>\n",
              "    .dataframe tbody tr th:only-of-type {\n",
              "        vertical-align: middle;\n",
              "    }\n",
              "\n",
              "    .dataframe tbody tr th {\n",
              "        vertical-align: top;\n",
              "    }\n",
              "\n",
              "    .dataframe thead th {\n",
              "        text-align: right;\n",
              "    }\n",
              "</style>\n",
              "<table border=\"1\" class=\"dataframe\">\n",
              "  <thead>\n",
              "    <tr style=\"text-align: right;\">\n",
              "      <th></th>\n",
              "      <th>a</th>\n",
              "      <th>b</th>\n",
              "      <th>c</th>\n",
              "      <th>d</th>\n",
              "      <th>e</th>\n",
              "      <th>text</th>\n",
              "    </tr>\n",
              "  </thead>\n",
              "  <tbody>\n",
              "    <tr>\n",
              "      <th>0</th>\n",
              "      <td>1</td>\n",
              "      <td>2</td>\n",
              "      <td>3</td>\n",
              "      <td>4</td>\n",
              "      <td>5</td>\n",
              "      <td>hi</td>\n",
              "    </tr>\n",
              "    <tr>\n",
              "      <th>1</th>\n",
              "      <td>6</td>\n",
              "      <td>7</td>\n",
              "      <td>8</td>\n",
              "      <td>9</td>\n",
              "      <td>10</td>\n",
              "      <td>pandas</td>\n",
              "    </tr>\n",
              "    <tr>\n",
              "      <th>2</th>\n",
              "      <td>11</td>\n",
              "      <td>12</td>\n",
              "      <td>13</td>\n",
              "      <td>14</td>\n",
              "      <td>15</td>\n",
              "      <td>csv</td>\n",
              "    </tr>\n",
              "  </tbody>\n",
              "</table>\n",
              "</div>"
            ],
            "text/plain": [
              "    a   b   c   d   e     text\n",
              "0   1   2   3   4   5       hi\n",
              "1   6   7   8   9  10   pandas\n",
              "2  11  12  13  14  15      csv"
            ]
          },
          "metadata": {
            "tags": []
          },
          "execution_count": 8
        }
      ]
    },
    {
      "cell_type": "code",
      "metadata": {
        "colab": {
          "base_uri": "https://localhost:8080/",
          "height": 173
        },
        "id": "0NPwwqGaFW9R",
        "outputId": "8af9e4f7-1488-4e62-9396-6ab005d39105"
      },
      "source": [
        "pd.read_csv('example2.csv', names=['a', 'b', 'c', 'd', 'e', 'text'], index_col='text')"
      ],
      "execution_count": 9,
      "outputs": [
        {
          "output_type": "execute_result",
          "data": {
            "text/html": [
              "<div>\n",
              "<style scoped>\n",
              "    .dataframe tbody tr th:only-of-type {\n",
              "        vertical-align: middle;\n",
              "    }\n",
              "\n",
              "    .dataframe tbody tr th {\n",
              "        vertical-align: top;\n",
              "    }\n",
              "\n",
              "    .dataframe thead th {\n",
              "        text-align: right;\n",
              "    }\n",
              "</style>\n",
              "<table border=\"1\" class=\"dataframe\">\n",
              "  <thead>\n",
              "    <tr style=\"text-align: right;\">\n",
              "      <th></th>\n",
              "      <th>a</th>\n",
              "      <th>b</th>\n",
              "      <th>c</th>\n",
              "      <th>d</th>\n",
              "      <th>e</th>\n",
              "    </tr>\n",
              "    <tr>\n",
              "      <th>text</th>\n",
              "      <th></th>\n",
              "      <th></th>\n",
              "      <th></th>\n",
              "      <th></th>\n",
              "      <th></th>\n",
              "    </tr>\n",
              "  </thead>\n",
              "  <tbody>\n",
              "    <tr>\n",
              "      <th>hi</th>\n",
              "      <td>1</td>\n",
              "      <td>2</td>\n",
              "      <td>3</td>\n",
              "      <td>4</td>\n",
              "      <td>5</td>\n",
              "    </tr>\n",
              "    <tr>\n",
              "      <th>pandas</th>\n",
              "      <td>6</td>\n",
              "      <td>7</td>\n",
              "      <td>8</td>\n",
              "      <td>9</td>\n",
              "      <td>10</td>\n",
              "    </tr>\n",
              "    <tr>\n",
              "      <th>csv</th>\n",
              "      <td>11</td>\n",
              "      <td>12</td>\n",
              "      <td>13</td>\n",
              "      <td>14</td>\n",
              "      <td>15</td>\n",
              "    </tr>\n",
              "  </tbody>\n",
              "</table>\n",
              "</div>"
            ],
            "text/plain": [
              "          a   b   c   d   e\n",
              "text                       \n",
              " hi       1   2   3   4   5\n",
              " pandas   6   7   8   9  10\n",
              " csv     11  12  13  14  15"
            ]
          },
          "metadata": {
            "tags": []
          },
          "execution_count": 9
        }
      ]
    },
    {
      "cell_type": "code",
      "metadata": {
        "id": "8OQnb-WrFhaB",
        "colab": {
          "base_uri": "https://localhost:8080/"
        },
        "outputId": "fb16b1ec-71a2-4790-d601-12f478ee3d75"
      },
      "source": [
        "%%writefile example3.txt\n",
        "     a     b     c\n",
        "1  0.1   0.2   0.3\n",
        "2  0.4   0.5   0.6\n",
        "3  0.7   0.8   0.9"
      ],
      "execution_count": 10,
      "outputs": [
        {
          "output_type": "stream",
          "text": [
            "Writing example3.txt\n"
          ],
          "name": "stdout"
        }
      ]
    },
    {
      "cell_type": "code",
      "metadata": {
        "colab": {
          "base_uri": "https://localhost:8080/",
          "height": 142
        },
        "id": "VD5h1pcbkDoE",
        "outputId": "4c9b87cd-6dd0-4981-d25c-7a8c16cdd70d"
      },
      "source": [
        "pd.read_table('example3.txt', sep='\\s+')"
      ],
      "execution_count": 11,
      "outputs": [
        {
          "output_type": "execute_result",
          "data": {
            "text/html": [
              "<div>\n",
              "<style scoped>\n",
              "    .dataframe tbody tr th:only-of-type {\n",
              "        vertical-align: middle;\n",
              "    }\n",
              "\n",
              "    .dataframe tbody tr th {\n",
              "        vertical-align: top;\n",
              "    }\n",
              "\n",
              "    .dataframe thead th {\n",
              "        text-align: right;\n",
              "    }\n",
              "</style>\n",
              "<table border=\"1\" class=\"dataframe\">\n",
              "  <thead>\n",
              "    <tr style=\"text-align: right;\">\n",
              "      <th></th>\n",
              "      <th>a</th>\n",
              "      <th>b</th>\n",
              "      <th>c</th>\n",
              "    </tr>\n",
              "  </thead>\n",
              "  <tbody>\n",
              "    <tr>\n",
              "      <th>1</th>\n",
              "      <td>0.1</td>\n",
              "      <td>0.2</td>\n",
              "      <td>0.3</td>\n",
              "    </tr>\n",
              "    <tr>\n",
              "      <th>2</th>\n",
              "      <td>0.4</td>\n",
              "      <td>0.5</td>\n",
              "      <td>0.6</td>\n",
              "    </tr>\n",
              "    <tr>\n",
              "      <th>3</th>\n",
              "      <td>0.7</td>\n",
              "      <td>0.8</td>\n",
              "      <td>0.9</td>\n",
              "    </tr>\n",
              "  </tbody>\n",
              "</table>\n",
              "</div>"
            ],
            "text/plain": [
              "     a    b    c\n",
              "1  0.1  0.2  0.3\n",
              "2  0.4  0.5  0.6\n",
              "3  0.7  0.8  0.9"
            ]
          },
          "metadata": {
            "tags": []
          },
          "execution_count": 11
        }
      ]
    },
    {
      "cell_type": "code",
      "metadata": {
        "colab": {
          "base_uri": "https://localhost:8080/"
        },
        "id": "FpI_P55JkMAs",
        "outputId": "2053a0c3-b8e4-442d-d546-6dbbdc574db3"
      },
      "source": [
        "%%writefile example4.csv\n",
        "# 파일 설명\n",
        "a, b, c, d, e, text\n",
        "# 컬럼은 a, b, c ,d, e와 text가 있음\n",
        "1, 2, 3, 4, 5, hi\n",
        "6, 7, 8, 9, 10, pandas\n",
        "11, 12, 13, 14, 15, csv"
      ],
      "execution_count": 12,
      "outputs": [
        {
          "output_type": "stream",
          "text": [
            "Writing example4.csv\n"
          ],
          "name": "stdout"
        }
      ]
    },
    {
      "cell_type": "code",
      "metadata": {
        "colab": {
          "base_uri": "https://localhost:8080/",
          "height": 142
        },
        "id": "tz9TRs-rkwjz",
        "outputId": "8776c325-a07e-4d4f-b415-48dc40b3b2c9"
      },
      "source": [
        "pd.read_csv('example4.csv', skiprows=[0, 2])"
      ],
      "execution_count": 13,
      "outputs": [
        {
          "output_type": "execute_result",
          "data": {
            "text/html": [
              "<div>\n",
              "<style scoped>\n",
              "    .dataframe tbody tr th:only-of-type {\n",
              "        vertical-align: middle;\n",
              "    }\n",
              "\n",
              "    .dataframe tbody tr th {\n",
              "        vertical-align: top;\n",
              "    }\n",
              "\n",
              "    .dataframe thead th {\n",
              "        text-align: right;\n",
              "    }\n",
              "</style>\n",
              "<table border=\"1\" class=\"dataframe\">\n",
              "  <thead>\n",
              "    <tr style=\"text-align: right;\">\n",
              "      <th></th>\n",
              "      <th>a</th>\n",
              "      <th>b</th>\n",
              "      <th>c</th>\n",
              "      <th>d</th>\n",
              "      <th>e</th>\n",
              "      <th>text</th>\n",
              "    </tr>\n",
              "  </thead>\n",
              "  <tbody>\n",
              "    <tr>\n",
              "      <th>0</th>\n",
              "      <td>1</td>\n",
              "      <td>2</td>\n",
              "      <td>3</td>\n",
              "      <td>4</td>\n",
              "      <td>5</td>\n",
              "      <td>hi</td>\n",
              "    </tr>\n",
              "    <tr>\n",
              "      <th>1</th>\n",
              "      <td>6</td>\n",
              "      <td>7</td>\n",
              "      <td>8</td>\n",
              "      <td>9</td>\n",
              "      <td>10</td>\n",
              "      <td>pandas</td>\n",
              "    </tr>\n",
              "    <tr>\n",
              "      <th>2</th>\n",
              "      <td>11</td>\n",
              "      <td>12</td>\n",
              "      <td>13</td>\n",
              "      <td>14</td>\n",
              "      <td>15</td>\n",
              "      <td>csv</td>\n",
              "    </tr>\n",
              "  </tbody>\n",
              "</table>\n",
              "</div>"
            ],
            "text/plain": [
              "    a   b   c   d   e     text\n",
              "0   1   2   3   4   5       hi\n",
              "1   6   7   8   9  10   pandas\n",
              "2  11  12  13  14  15      csv"
            ]
          },
          "metadata": {
            "tags": []
          },
          "execution_count": 13
        }
      ]
    },
    {
      "cell_type": "code",
      "metadata": {
        "colab": {
          "base_uri": "https://localhost:8080/"
        },
        "id": "u7Nc7p3Ak-Cj",
        "outputId": "f2116546-8539-46d5-d83b-8d0798ee525d"
      },
      "source": [
        "%%writefile example5.csv\n",
        "a, b, c, d, e, text\n",
        "1, 2, NA, 4, 5, hi\n",
        "6, 7, 8, NULL, 10, pandas\n",
        "11, NA, 13, 14, 15, csv"
      ],
      "execution_count": 14,
      "outputs": [
        {
          "output_type": "stream",
          "text": [
            "Writing example5.csv\n"
          ],
          "name": "stdout"
        }
      ]
    },
    {
      "cell_type": "code",
      "metadata": {
        "colab": {
          "base_uri": "https://localhost:8080/",
          "height": 142
        },
        "id": "4gh1RXA3lQv7",
        "outputId": "5b7386b4-fa38-4ab2-9bf4-0b5d135a0cfc"
      },
      "source": [
        "pd.read_csv('example5.csv')"
      ],
      "execution_count": 15,
      "outputs": [
        {
          "output_type": "execute_result",
          "data": {
            "text/html": [
              "<div>\n",
              "<style scoped>\n",
              "    .dataframe tbody tr th:only-of-type {\n",
              "        vertical-align: middle;\n",
              "    }\n",
              "\n",
              "    .dataframe tbody tr th {\n",
              "        vertical-align: top;\n",
              "    }\n",
              "\n",
              "    .dataframe thead th {\n",
              "        text-align: right;\n",
              "    }\n",
              "</style>\n",
              "<table border=\"1\" class=\"dataframe\">\n",
              "  <thead>\n",
              "    <tr style=\"text-align: right;\">\n",
              "      <th></th>\n",
              "      <th>a</th>\n",
              "      <th>b</th>\n",
              "      <th>c</th>\n",
              "      <th>d</th>\n",
              "      <th>e</th>\n",
              "      <th>text</th>\n",
              "    </tr>\n",
              "  </thead>\n",
              "  <tbody>\n",
              "    <tr>\n",
              "      <th>0</th>\n",
              "      <td>1</td>\n",
              "      <td>2</td>\n",
              "      <td>NA</td>\n",
              "      <td>4</td>\n",
              "      <td>5</td>\n",
              "      <td>hi</td>\n",
              "    </tr>\n",
              "    <tr>\n",
              "      <th>1</th>\n",
              "      <td>6</td>\n",
              "      <td>7</td>\n",
              "      <td>8</td>\n",
              "      <td>NULL</td>\n",
              "      <td>10</td>\n",
              "      <td>pandas</td>\n",
              "    </tr>\n",
              "    <tr>\n",
              "      <th>2</th>\n",
              "      <td>11</td>\n",
              "      <td>NA</td>\n",
              "      <td>13</td>\n",
              "      <td>14</td>\n",
              "      <td>15</td>\n",
              "      <td>csv</td>\n",
              "    </tr>\n",
              "  </tbody>\n",
              "</table>\n",
              "</div>"
            ],
            "text/plain": [
              "    a    b    c      d   e     text\n",
              "0   1    2   NA      4   5       hi\n",
              "1   6    7    8   NULL  10   pandas\n",
              "2  11   NA   13     14  15      csv"
            ]
          },
          "metadata": {
            "tags": []
          },
          "execution_count": 15
        }
      ]
    },
    {
      "cell_type": "code",
      "metadata": {
        "colab": {
          "base_uri": "https://localhost:8080/"
        },
        "id": "GkZXzsw7lVIE",
        "outputId": "402ebf53-45d7-4a8f-95df-fce81967b312"
      },
      "source": [
        "%%writefile example6.csv\n",
        "a, b, c, d, e, text\n",
        "1, 2, 3, 4, 5, hi\n",
        "6, 7, 8, 9, 10, pandas\n",
        "11, 12, 13, 14, 15, csv\n",
        "1, 2, 3, 4, 5, hi\n",
        "6, 7, 8, 9, 10, pandas\n",
        "11, 12, 13, 14, 15, csv\n",
        "1, 2, 3, 4, 5, hi\n",
        "6, 7, 8, 9, 10, pandas\n",
        "11, 12, 13, 14, 15, csv\n",
        "1, 2, 3, 4, 5, hi\n",
        "6, 7, 8, 9, 10, pandas\n",
        "11, 12, 13, 14, 15, csv\n",
        "1, 2, 3, 4, 5, hi\n",
        "6, 7, 8, 9, 10, pandas\n",
        "11, 12, 13, 14, 15, csv"
      ],
      "execution_count": 16,
      "outputs": [
        {
          "output_type": "stream",
          "text": [
            "Writing example6.csv\n"
          ],
          "name": "stdout"
        }
      ]
    },
    {
      "cell_type": "code",
      "metadata": {
        "colab": {
          "base_uri": "https://localhost:8080/",
          "height": 204
        },
        "id": "rPUo1KxSllbr",
        "outputId": "8eee9c2e-b727-4ea2-bfc2-b5c9cdd6a6c3"
      },
      "source": [
        "pd.read_csv('example6.csv', nrows=5)"
      ],
      "execution_count": 17,
      "outputs": [
        {
          "output_type": "execute_result",
          "data": {
            "text/html": [
              "<div>\n",
              "<style scoped>\n",
              "    .dataframe tbody tr th:only-of-type {\n",
              "        vertical-align: middle;\n",
              "    }\n",
              "\n",
              "    .dataframe tbody tr th {\n",
              "        vertical-align: top;\n",
              "    }\n",
              "\n",
              "    .dataframe thead th {\n",
              "        text-align: right;\n",
              "    }\n",
              "</style>\n",
              "<table border=\"1\" class=\"dataframe\">\n",
              "  <thead>\n",
              "    <tr style=\"text-align: right;\">\n",
              "      <th></th>\n",
              "      <th>a</th>\n",
              "      <th>b</th>\n",
              "      <th>c</th>\n",
              "      <th>d</th>\n",
              "      <th>e</th>\n",
              "      <th>text</th>\n",
              "    </tr>\n",
              "  </thead>\n",
              "  <tbody>\n",
              "    <tr>\n",
              "      <th>0</th>\n",
              "      <td>1</td>\n",
              "      <td>2</td>\n",
              "      <td>3</td>\n",
              "      <td>4</td>\n",
              "      <td>5</td>\n",
              "      <td>hi</td>\n",
              "    </tr>\n",
              "    <tr>\n",
              "      <th>1</th>\n",
              "      <td>6</td>\n",
              "      <td>7</td>\n",
              "      <td>8</td>\n",
              "      <td>9</td>\n",
              "      <td>10</td>\n",
              "      <td>pandas</td>\n",
              "    </tr>\n",
              "    <tr>\n",
              "      <th>2</th>\n",
              "      <td>11</td>\n",
              "      <td>12</td>\n",
              "      <td>13</td>\n",
              "      <td>14</td>\n",
              "      <td>15</td>\n",
              "      <td>csv</td>\n",
              "    </tr>\n",
              "    <tr>\n",
              "      <th>3</th>\n",
              "      <td>1</td>\n",
              "      <td>2</td>\n",
              "      <td>3</td>\n",
              "      <td>4</td>\n",
              "      <td>5</td>\n",
              "      <td>hi</td>\n",
              "    </tr>\n",
              "    <tr>\n",
              "      <th>4</th>\n",
              "      <td>6</td>\n",
              "      <td>7</td>\n",
              "      <td>8</td>\n",
              "      <td>9</td>\n",
              "      <td>10</td>\n",
              "      <td>pandas</td>\n",
              "    </tr>\n",
              "  </tbody>\n",
              "</table>\n",
              "</div>"
            ],
            "text/plain": [
              "    a   b   c   d   e     text\n",
              "0   1   2   3   4   5       hi\n",
              "1   6   7   8   9  10   pandas\n",
              "2  11  12  13  14  15      csv\n",
              "3   1   2   3   4   5       hi\n",
              "4   6   7   8   9  10   pandas"
            ]
          },
          "metadata": {
            "tags": []
          },
          "execution_count": 17
        }
      ]
    },
    {
      "cell_type": "code",
      "metadata": {
        "colab": {
          "base_uri": "https://localhost:8080/",
          "height": 514
        },
        "id": "0j7EHSBrluUb",
        "outputId": "5c4be75d-dc12-409f-a1f8-5810556e7dd0"
      },
      "source": [
        "df = pd.read_csv('example6.csv')\n",
        "df"
      ],
      "execution_count": 18,
      "outputs": [
        {
          "output_type": "execute_result",
          "data": {
            "text/html": [
              "<div>\n",
              "<style scoped>\n",
              "    .dataframe tbody tr th:only-of-type {\n",
              "        vertical-align: middle;\n",
              "    }\n",
              "\n",
              "    .dataframe tbody tr th {\n",
              "        vertical-align: top;\n",
              "    }\n",
              "\n",
              "    .dataframe thead th {\n",
              "        text-align: right;\n",
              "    }\n",
              "</style>\n",
              "<table border=\"1\" class=\"dataframe\">\n",
              "  <thead>\n",
              "    <tr style=\"text-align: right;\">\n",
              "      <th></th>\n",
              "      <th>a</th>\n",
              "      <th>b</th>\n",
              "      <th>c</th>\n",
              "      <th>d</th>\n",
              "      <th>e</th>\n",
              "      <th>text</th>\n",
              "    </tr>\n",
              "  </thead>\n",
              "  <tbody>\n",
              "    <tr>\n",
              "      <th>0</th>\n",
              "      <td>1</td>\n",
              "      <td>2</td>\n",
              "      <td>3</td>\n",
              "      <td>4</td>\n",
              "      <td>5</td>\n",
              "      <td>hi</td>\n",
              "    </tr>\n",
              "    <tr>\n",
              "      <th>1</th>\n",
              "      <td>6</td>\n",
              "      <td>7</td>\n",
              "      <td>8</td>\n",
              "      <td>9</td>\n",
              "      <td>10</td>\n",
              "      <td>pandas</td>\n",
              "    </tr>\n",
              "    <tr>\n",
              "      <th>2</th>\n",
              "      <td>11</td>\n",
              "      <td>12</td>\n",
              "      <td>13</td>\n",
              "      <td>14</td>\n",
              "      <td>15</td>\n",
              "      <td>csv</td>\n",
              "    </tr>\n",
              "    <tr>\n",
              "      <th>3</th>\n",
              "      <td>1</td>\n",
              "      <td>2</td>\n",
              "      <td>3</td>\n",
              "      <td>4</td>\n",
              "      <td>5</td>\n",
              "      <td>hi</td>\n",
              "    </tr>\n",
              "    <tr>\n",
              "      <th>4</th>\n",
              "      <td>6</td>\n",
              "      <td>7</td>\n",
              "      <td>8</td>\n",
              "      <td>9</td>\n",
              "      <td>10</td>\n",
              "      <td>pandas</td>\n",
              "    </tr>\n",
              "    <tr>\n",
              "      <th>5</th>\n",
              "      <td>11</td>\n",
              "      <td>12</td>\n",
              "      <td>13</td>\n",
              "      <td>14</td>\n",
              "      <td>15</td>\n",
              "      <td>csv</td>\n",
              "    </tr>\n",
              "    <tr>\n",
              "      <th>6</th>\n",
              "      <td>1</td>\n",
              "      <td>2</td>\n",
              "      <td>3</td>\n",
              "      <td>4</td>\n",
              "      <td>5</td>\n",
              "      <td>hi</td>\n",
              "    </tr>\n",
              "    <tr>\n",
              "      <th>7</th>\n",
              "      <td>6</td>\n",
              "      <td>7</td>\n",
              "      <td>8</td>\n",
              "      <td>9</td>\n",
              "      <td>10</td>\n",
              "      <td>pandas</td>\n",
              "    </tr>\n",
              "    <tr>\n",
              "      <th>8</th>\n",
              "      <td>11</td>\n",
              "      <td>12</td>\n",
              "      <td>13</td>\n",
              "      <td>14</td>\n",
              "      <td>15</td>\n",
              "      <td>csv</td>\n",
              "    </tr>\n",
              "    <tr>\n",
              "      <th>9</th>\n",
              "      <td>1</td>\n",
              "      <td>2</td>\n",
              "      <td>3</td>\n",
              "      <td>4</td>\n",
              "      <td>5</td>\n",
              "      <td>hi</td>\n",
              "    </tr>\n",
              "    <tr>\n",
              "      <th>10</th>\n",
              "      <td>6</td>\n",
              "      <td>7</td>\n",
              "      <td>8</td>\n",
              "      <td>9</td>\n",
              "      <td>10</td>\n",
              "      <td>pandas</td>\n",
              "    </tr>\n",
              "    <tr>\n",
              "      <th>11</th>\n",
              "      <td>11</td>\n",
              "      <td>12</td>\n",
              "      <td>13</td>\n",
              "      <td>14</td>\n",
              "      <td>15</td>\n",
              "      <td>csv</td>\n",
              "    </tr>\n",
              "    <tr>\n",
              "      <th>12</th>\n",
              "      <td>1</td>\n",
              "      <td>2</td>\n",
              "      <td>3</td>\n",
              "      <td>4</td>\n",
              "      <td>5</td>\n",
              "      <td>hi</td>\n",
              "    </tr>\n",
              "    <tr>\n",
              "      <th>13</th>\n",
              "      <td>6</td>\n",
              "      <td>7</td>\n",
              "      <td>8</td>\n",
              "      <td>9</td>\n",
              "      <td>10</td>\n",
              "      <td>pandas</td>\n",
              "    </tr>\n",
              "    <tr>\n",
              "      <th>14</th>\n",
              "      <td>11</td>\n",
              "      <td>12</td>\n",
              "      <td>13</td>\n",
              "      <td>14</td>\n",
              "      <td>15</td>\n",
              "      <td>csv</td>\n",
              "    </tr>\n",
              "  </tbody>\n",
              "</table>\n",
              "</div>"
            ],
            "text/plain": [
              "     a   b   c   d   e     text\n",
              "0    1   2   3   4   5       hi\n",
              "1    6   7   8   9  10   pandas\n",
              "2   11  12  13  14  15      csv\n",
              "3    1   2   3   4   5       hi\n",
              "4    6   7   8   9  10   pandas\n",
              "5   11  12  13  14  15      csv\n",
              "6    1   2   3   4   5       hi\n",
              "7    6   7   8   9  10   pandas\n",
              "8   11  12  13  14  15      csv\n",
              "9    1   2   3   4   5       hi\n",
              "10   6   7   8   9  10   pandas\n",
              "11  11  12  13  14  15      csv\n",
              "12   1   2   3   4   5       hi\n",
              "13   6   7   8   9  10   pandas\n",
              "14  11  12  13  14  15      csv"
            ]
          },
          "metadata": {
            "tags": []
          },
          "execution_count": 18
        }
      ]
    },
    {
      "cell_type": "code",
      "metadata": {
        "id": "GyyrQ3aol6S0"
      },
      "source": [
        "df.to_csv('output.csv')"
      ],
      "execution_count": 19,
      "outputs": []
    },
    {
      "cell_type": "code",
      "metadata": {
        "colab": {
          "base_uri": "https://localhost:8080/"
        },
        "id": "L2IFn5bNmKMr",
        "outputId": "3e3a53e0-d6cf-4c62-8447-2ffebb1b123b"
      },
      "source": [
        "!cat output.csv"
      ],
      "execution_count": 20,
      "outputs": [
        {
          "output_type": "stream",
          "text": [
            ",a, b, c, d, e, text\n",
            "0,1,2,3,4,5, hi\n",
            "1,6,7,8,9,10, pandas\n",
            "2,11,12,13,14,15, csv\n",
            "3,1,2,3,4,5, hi\n",
            "4,6,7,8,9,10, pandas\n",
            "5,11,12,13,14,15, csv\n",
            "6,1,2,3,4,5, hi\n",
            "7,6,7,8,9,10, pandas\n",
            "8,11,12,13,14,15, csv\n",
            "9,1,2,3,4,5, hi\n",
            "10,6,7,8,9,10, pandas\n",
            "11,11,12,13,14,15, csv\n",
            "12,1,2,3,4,5, hi\n",
            "13,6,7,8,9,10, pandas\n",
            "14,11,12,13,14,15, csv\n"
          ],
          "name": "stdout"
        }
      ]
    },
    {
      "cell_type": "code",
      "metadata": {
        "colab": {
          "base_uri": "https://localhost:8080/"
        },
        "id": "WJtiI-B3mNGL",
        "outputId": "82ed78a3-4234-4433-cc9d-750d0ebb8069"
      },
      "source": [
        "dr = pd.date_range('2021-01-01', periods=10)\n",
        "ts = pd.Series(np.arange(10), index=dr)\n",
        "ts"
      ],
      "execution_count": 21,
      "outputs": [
        {
          "output_type": "execute_result",
          "data": {
            "text/plain": [
              "2021-01-01    0\n",
              "2021-01-02    1\n",
              "2021-01-03    2\n",
              "2021-01-04    3\n",
              "2021-01-05    4\n",
              "2021-01-06    5\n",
              "2021-01-07    6\n",
              "2021-01-08    7\n",
              "2021-01-09    8\n",
              "2021-01-10    9\n",
              "Freq: D, dtype: int64"
            ]
          },
          "metadata": {
            "tags": []
          },
          "execution_count": 21
        }
      ]
    },
    {
      "cell_type": "code",
      "metadata": {
        "id": "YEv08rQEmbjj"
      },
      "source": [
        "ts.to_csv('ts.csv', header=['value'])"
      ],
      "execution_count": 22,
      "outputs": []
    },
    {
      "cell_type": "code",
      "metadata": {
        "colab": {
          "base_uri": "https://localhost:8080/"
        },
        "id": "cHr8WblVmmDs",
        "outputId": "7db0a1e6-412d-4916-f8e1-51d463592770"
      },
      "source": [
        "!cat ts.csv"
      ],
      "execution_count": 23,
      "outputs": [
        {
          "output_type": "stream",
          "text": [
            ",value\n",
            "2021-01-01,0\n",
            "2021-01-02,1\n",
            "2021-01-03,2\n",
            "2021-01-04,3\n",
            "2021-01-05,4\n",
            "2021-01-06,5\n",
            "2021-01-07,6\n",
            "2021-01-08,7\n",
            "2021-01-09,8\n",
            "2021-01-10,9\n"
          ],
          "name": "stdout"
        }
      ]
    },
    {
      "cell_type": "code",
      "metadata": {
        "colab": {
          "base_uri": "https://localhost:8080/"
        },
        "id": "7qpTnCSFmnxc",
        "outputId": "e243c359-f0b7-4b2a-d430-866f19948b5a"
      },
      "source": [
        "%%writefile example.json\n",
        "[{\"a\":1, \"b\":2, \"c\":3, \"d\":4, \"e\":5},\n",
        " {\"a\":6, \"b\":7, \"c\":8, \"d\":9, \"e\":10},\n",
        " {\"a\":11, \"b\":12, \"c\":13, \"d\":14, \"e\":15}]"
      ],
      "execution_count": 34,
      "outputs": [
        {
          "output_type": "stream",
          "text": [
            "Overwriting example.json\n"
          ],
          "name": "stdout"
        }
      ]
    },
    {
      "cell_type": "code",
      "metadata": {
        "colab": {
          "base_uri": "https://localhost:8080/"
        },
        "id": "8CjaTwoYnLyD",
        "outputId": "26481341-e95c-4bca-c674-1de874bb8a15"
      },
      "source": [
        "!cat example.json"
      ],
      "execution_count": 35,
      "outputs": [
        {
          "output_type": "stream",
          "text": [
            "[{\"a\":1, \"b\":2, \"c\":3, \"d\":4, \"e\":5},\n",
            " {\"a\":6, \"b\":7, \"c\":8, \"d\":9, \"e\":10},\n",
            " {\"a\":11, \"b\":12, \"c\":13, \"d\":14, \"e\":15}]"
          ],
          "name": "stdout"
        }
      ]
    },
    {
      "cell_type": "code",
      "metadata": {
        "colab": {
          "base_uri": "https://localhost:8080/",
          "height": 142
        },
        "id": "vRaDTnFjnNzj",
        "outputId": "193e5a75-93db-40af-eb08-f8a2341f82de"
      },
      "source": [
        "pd.read_json('example.json')"
      ],
      "execution_count": 36,
      "outputs": [
        {
          "output_type": "execute_result",
          "data": {
            "text/html": [
              "<div>\n",
              "<style scoped>\n",
              "    .dataframe tbody tr th:only-of-type {\n",
              "        vertical-align: middle;\n",
              "    }\n",
              "\n",
              "    .dataframe tbody tr th {\n",
              "        vertical-align: top;\n",
              "    }\n",
              "\n",
              "    .dataframe thead th {\n",
              "        text-align: right;\n",
              "    }\n",
              "</style>\n",
              "<table border=\"1\" class=\"dataframe\">\n",
              "  <thead>\n",
              "    <tr style=\"text-align: right;\">\n",
              "      <th></th>\n",
              "      <th>a</th>\n",
              "      <th>b</th>\n",
              "      <th>c</th>\n",
              "      <th>d</th>\n",
              "      <th>e</th>\n",
              "    </tr>\n",
              "  </thead>\n",
              "  <tbody>\n",
              "    <tr>\n",
              "      <th>0</th>\n",
              "      <td>1</td>\n",
              "      <td>2</td>\n",
              "      <td>3</td>\n",
              "      <td>4</td>\n",
              "      <td>5</td>\n",
              "    </tr>\n",
              "    <tr>\n",
              "      <th>1</th>\n",
              "      <td>6</td>\n",
              "      <td>7</td>\n",
              "      <td>8</td>\n",
              "      <td>9</td>\n",
              "      <td>10</td>\n",
              "    </tr>\n",
              "    <tr>\n",
              "      <th>2</th>\n",
              "      <td>11</td>\n",
              "      <td>12</td>\n",
              "      <td>13</td>\n",
              "      <td>14</td>\n",
              "      <td>15</td>\n",
              "    </tr>\n",
              "  </tbody>\n",
              "</table>\n",
              "</div>"
            ],
            "text/plain": [
              "    a   b   c   d   e\n",
              "0   1   2   3   4   5\n",
              "1   6   7   8   9  10\n",
              "2  11  12  13  14  15"
            ]
          },
          "metadata": {
            "tags": []
          },
          "execution_count": 36
        }
      ]
    },
    {
      "cell_type": "code",
      "metadata": {
        "id": "LHEBXdj9nVr7"
      },
      "source": [
        "ts.to_json(\"output.json\")"
      ],
      "execution_count": 37,
      "outputs": []
    },
    {
      "cell_type": "code",
      "metadata": {
        "colab": {
          "base_uri": "https://localhost:8080/"
        },
        "id": "mOkHKaFVoqIq",
        "outputId": "8cb22a2d-7a3e-40a6-c687-c7806b4feb68"
      },
      "source": [
        "!cat output.json"
      ],
      "execution_count": 38,
      "outputs": [
        {
          "output_type": "stream",
          "text": [
            "{\"1609459200000\":0,\"1609545600000\":1,\"1609632000000\":2,\"1609718400000\":3,\"1609804800000\":4,\"1609891200000\":5,\"1609977600000\":6,\"1610064000000\":7,\"1610150400000\":8,\"1610236800000\":9}"
          ],
          "name": "stdout"
        }
      ]
    },
    {
      "cell_type": "code",
      "metadata": {
        "id": "3nMPOHpZosTS"
      },
      "source": [
        "df.to_json('output.json')"
      ],
      "execution_count": 39,
      "outputs": []
    },
    {
      "cell_type": "code",
      "metadata": {
        "colab": {
          "base_uri": "https://localhost:8080/"
        },
        "id": "Wchr94PBo42i",
        "outputId": "f80d1dac-6ae9-4046-9041-a979a5fa361f"
      },
      "source": [
        "!cat output.json"
      ],
      "execution_count": 40,
      "outputs": [
        {
          "output_type": "stream",
          "text": [
            "{\"a\":{\"0\":1,\"1\":6,\"2\":11,\"3\":1,\"4\":6,\"5\":11,\"6\":1,\"7\":6,\"8\":11,\"9\":1,\"10\":6,\"11\":11,\"12\":1,\"13\":6,\"14\":11},\" b\":{\"0\":2,\"1\":7,\"2\":12,\"3\":2,\"4\":7,\"5\":12,\"6\":2,\"7\":7,\"8\":12,\"9\":2,\"10\":7,\"11\":12,\"12\":2,\"13\":7,\"14\":12},\" c\":{\"0\":3,\"1\":8,\"2\":13,\"3\":3,\"4\":8,\"5\":13,\"6\":3,\"7\":8,\"8\":13,\"9\":3,\"10\":8,\"11\":13,\"12\":3,\"13\":8,\"14\":13},\" d\":{\"0\":4,\"1\":9,\"2\":14,\"3\":4,\"4\":9,\"5\":14,\"6\":4,\"7\":9,\"8\":14,\"9\":4,\"10\":9,\"11\":14,\"12\":4,\"13\":9,\"14\":14},\" e\":{\"0\":5,\"1\":10,\"2\":15,\"3\":5,\"4\":10,\"5\":15,\"6\":5,\"7\":10,\"8\":15,\"9\":5,\"10\":10,\"11\":15,\"12\":5,\"13\":10,\"14\":15},\" text\":{\"0\":\" hi\",\"1\":\" pandas\",\"2\":\" csv\",\"3\":\" hi\",\"4\":\" pandas\",\"5\":\" csv\",\"6\":\" hi\",\"7\":\" pandas\",\"8\":\" csv\",\"9\":\" hi\",\"10\":\" pandas\",\"11\":\" csv\",\"12\":\" hi\",\"13\":\" pandas\",\"14\":\" csv\"}}"
          ],
          "name": "stdout"
        }
      ]
    },
    {
      "cell_type": "markdown",
      "metadata": {
        "id": "m-Y72VyqpC8L"
      },
      "source": [
        "## 이진 데이터 파일 읽기 / 쓰기"
      ]
    },
    {
      "cell_type": "code",
      "metadata": {
        "colab": {
          "base_uri": "https://localhost:8080/",
          "height": 142
        },
        "id": "3Ra-LuiAo7-D",
        "outputId": "67bbd1c9-3910-48b7-fa76-29e71720693b"
      },
      "source": [
        "df = pd.read_csv('example1.csv')\n",
        "df"
      ],
      "execution_count": 41,
      "outputs": [
        {
          "output_type": "execute_result",
          "data": {
            "text/html": [
              "<div>\n",
              "<style scoped>\n",
              "    .dataframe tbody tr th:only-of-type {\n",
              "        vertical-align: middle;\n",
              "    }\n",
              "\n",
              "    .dataframe tbody tr th {\n",
              "        vertical-align: top;\n",
              "    }\n",
              "\n",
              "    .dataframe thead th {\n",
              "        text-align: right;\n",
              "    }\n",
              "</style>\n",
              "<table border=\"1\" class=\"dataframe\">\n",
              "  <thead>\n",
              "    <tr style=\"text-align: right;\">\n",
              "      <th></th>\n",
              "      <th>a</th>\n",
              "      <th>b</th>\n",
              "      <th>c</th>\n",
              "      <th>d</th>\n",
              "      <th>e</th>\n",
              "      <th>text</th>\n",
              "    </tr>\n",
              "  </thead>\n",
              "  <tbody>\n",
              "    <tr>\n",
              "      <th>0</th>\n",
              "      <td>1</td>\n",
              "      <td>2</td>\n",
              "      <td>3</td>\n",
              "      <td>4</td>\n",
              "      <td>5</td>\n",
              "      <td>hi</td>\n",
              "    </tr>\n",
              "    <tr>\n",
              "      <th>1</th>\n",
              "      <td>6</td>\n",
              "      <td>7</td>\n",
              "      <td>8</td>\n",
              "      <td>9</td>\n",
              "      <td>10</td>\n",
              "      <td>pandas</td>\n",
              "    </tr>\n",
              "    <tr>\n",
              "      <th>2</th>\n",
              "      <td>11</td>\n",
              "      <td>12</td>\n",
              "      <td>13</td>\n",
              "      <td>14</td>\n",
              "      <td>15</td>\n",
              "      <td>csv</td>\n",
              "    </tr>\n",
              "  </tbody>\n",
              "</table>\n",
              "</div>"
            ],
            "text/plain": [
              "    a   b   c   d   e     text\n",
              "0   1   2   3   4   5       hi\n",
              "1   6   7   8   9  10   pandas\n",
              "2  11  12  13  14  15      csv"
            ]
          },
          "metadata": {
            "tags": []
          },
          "execution_count": 41
        }
      ]
    },
    {
      "cell_type": "code",
      "metadata": {
        "colab": {
          "base_uri": "https://localhost:8080/",
          "height": 142
        },
        "id": "F7yJo1QKpP3b",
        "outputId": "a6c85c08-db64-48d5-8efd-f5005c9dd818"
      },
      "source": [
        "df.to_pickle('df_pickle')\n",
        "pd.read_pickle('df_pickle')"
      ],
      "execution_count": 42,
      "outputs": [
        {
          "output_type": "execute_result",
          "data": {
            "text/html": [
              "<div>\n",
              "<style scoped>\n",
              "    .dataframe tbody tr th:only-of-type {\n",
              "        vertical-align: middle;\n",
              "    }\n",
              "\n",
              "    .dataframe tbody tr th {\n",
              "        vertical-align: top;\n",
              "    }\n",
              "\n",
              "    .dataframe thead th {\n",
              "        text-align: right;\n",
              "    }\n",
              "</style>\n",
              "<table border=\"1\" class=\"dataframe\">\n",
              "  <thead>\n",
              "    <tr style=\"text-align: right;\">\n",
              "      <th></th>\n",
              "      <th>a</th>\n",
              "      <th>b</th>\n",
              "      <th>c</th>\n",
              "      <th>d</th>\n",
              "      <th>e</th>\n",
              "      <th>text</th>\n",
              "    </tr>\n",
              "  </thead>\n",
              "  <tbody>\n",
              "    <tr>\n",
              "      <th>0</th>\n",
              "      <td>1</td>\n",
              "      <td>2</td>\n",
              "      <td>3</td>\n",
              "      <td>4</td>\n",
              "      <td>5</td>\n",
              "      <td>hi</td>\n",
              "    </tr>\n",
              "    <tr>\n",
              "      <th>1</th>\n",
              "      <td>6</td>\n",
              "      <td>7</td>\n",
              "      <td>8</td>\n",
              "      <td>9</td>\n",
              "      <td>10</td>\n",
              "      <td>pandas</td>\n",
              "    </tr>\n",
              "    <tr>\n",
              "      <th>2</th>\n",
              "      <td>11</td>\n",
              "      <td>12</td>\n",
              "      <td>13</td>\n",
              "      <td>14</td>\n",
              "      <td>15</td>\n",
              "      <td>csv</td>\n",
              "    </tr>\n",
              "  </tbody>\n",
              "</table>\n",
              "</div>"
            ],
            "text/plain": [
              "    a   b   c   d   e     text\n",
              "0   1   2   3   4   5       hi\n",
              "1   6   7   8   9  10   pandas\n",
              "2  11  12  13  14  15      csv"
            ]
          },
          "metadata": {
            "tags": []
          },
          "execution_count": 42
        }
      ]
    },
    {
      "cell_type": "code",
      "metadata": {
        "colab": {
          "base_uri": "https://localhost:8080/",
          "height": 419
        },
        "id": "cCie-TMcpbGb",
        "outputId": "bda96e1a-f36a-406c-f85a-16eaa80bbd82"
      },
      "source": [
        "df = pd.DataFrame({'a':np.random.randn(100),\n",
        "                   'b':np.random.randn(100),\n",
        "                   'c':np.random.randn(100)})\n",
        "df"
      ],
      "execution_count": 43,
      "outputs": [
        {
          "output_type": "execute_result",
          "data": {
            "text/html": [
              "<div>\n",
              "<style scoped>\n",
              "    .dataframe tbody tr th:only-of-type {\n",
              "        vertical-align: middle;\n",
              "    }\n",
              "\n",
              "    .dataframe tbody tr th {\n",
              "        vertical-align: top;\n",
              "    }\n",
              "\n",
              "    .dataframe thead th {\n",
              "        text-align: right;\n",
              "    }\n",
              "</style>\n",
              "<table border=\"1\" class=\"dataframe\">\n",
              "  <thead>\n",
              "    <tr style=\"text-align: right;\">\n",
              "      <th></th>\n",
              "      <th>a</th>\n",
              "      <th>b</th>\n",
              "      <th>c</th>\n",
              "    </tr>\n",
              "  </thead>\n",
              "  <tbody>\n",
              "    <tr>\n",
              "      <th>0</th>\n",
              "      <td>-0.935313</td>\n",
              "      <td>-1.646714</td>\n",
              "      <td>0.288740</td>\n",
              "    </tr>\n",
              "    <tr>\n",
              "      <th>1</th>\n",
              "      <td>0.801716</td>\n",
              "      <td>-0.219507</td>\n",
              "      <td>-2.147780</td>\n",
              "    </tr>\n",
              "    <tr>\n",
              "      <th>2</th>\n",
              "      <td>0.912506</td>\n",
              "      <td>-0.133249</td>\n",
              "      <td>-0.921406</td>\n",
              "    </tr>\n",
              "    <tr>\n",
              "      <th>3</th>\n",
              "      <td>1.314931</td>\n",
              "      <td>-0.569361</td>\n",
              "      <td>1.144766</td>\n",
              "    </tr>\n",
              "    <tr>\n",
              "      <th>4</th>\n",
              "      <td>0.369215</td>\n",
              "      <td>-2.479816</td>\n",
              "      <td>-0.349906</td>\n",
              "    </tr>\n",
              "    <tr>\n",
              "      <th>...</th>\n",
              "      <td>...</td>\n",
              "      <td>...</td>\n",
              "      <td>...</td>\n",
              "    </tr>\n",
              "    <tr>\n",
              "      <th>95</th>\n",
              "      <td>1.035640</td>\n",
              "      <td>0.129676</td>\n",
              "      <td>-0.439380</td>\n",
              "    </tr>\n",
              "    <tr>\n",
              "      <th>96</th>\n",
              "      <td>-0.264234</td>\n",
              "      <td>-0.152521</td>\n",
              "      <td>2.035761</td>\n",
              "    </tr>\n",
              "    <tr>\n",
              "      <th>97</th>\n",
              "      <td>1.379658</td>\n",
              "      <td>0.848404</td>\n",
              "      <td>1.324203</td>\n",
              "    </tr>\n",
              "    <tr>\n",
              "      <th>98</th>\n",
              "      <td>-0.207253</td>\n",
              "      <td>-0.428760</td>\n",
              "      <td>-2.058538</td>\n",
              "    </tr>\n",
              "    <tr>\n",
              "      <th>99</th>\n",
              "      <td>0.154417</td>\n",
              "      <td>-1.049905</td>\n",
              "      <td>-0.229660</td>\n",
              "    </tr>\n",
              "  </tbody>\n",
              "</table>\n",
              "<p>100 rows × 3 columns</p>\n",
              "</div>"
            ],
            "text/plain": [
              "           a         b         c\n",
              "0  -0.935313 -1.646714  0.288740\n",
              "1   0.801716 -0.219507 -2.147780\n",
              "2   0.912506 -0.133249 -0.921406\n",
              "3   1.314931 -0.569361  1.144766\n",
              "4   0.369215 -2.479816 -0.349906\n",
              "..       ...       ...       ...\n",
              "95  1.035640  0.129676 -0.439380\n",
              "96 -0.264234 -0.152521  2.035761\n",
              "97  1.379658  0.848404  1.324203\n",
              "98 -0.207253 -0.428760 -2.058538\n",
              "99  0.154417 -1.049905 -0.229660\n",
              "\n",
              "[100 rows x 3 columns]"
            ]
          },
          "metadata": {
            "tags": []
          },
          "execution_count": 43
        }
      ]
    },
    {
      "cell_type": "code",
      "metadata": {
        "colab": {
          "base_uri": "https://localhost:8080/"
        },
        "id": "RH3TUQbmpspz",
        "outputId": "bf9b039c-3ba5-4d33-8855-1a5a90e3aea2"
      },
      "source": [
        "h = pd.HDFStore('date.h5')\n",
        "h['obj1'] = df\n",
        "h['obj1_col1'] = df['a']\n",
        "h['obj1_col2'] = df['b']\n",
        "h['obj1_col3'] = df['c']\n",
        "h"
      ],
      "execution_count": 44,
      "outputs": [
        {
          "output_type": "execute_result",
          "data": {
            "text/plain": [
              "<class 'pandas.io.pytables.HDFStore'>\n",
              "File path: date.h5"
            ]
          },
          "metadata": {
            "tags": []
          },
          "execution_count": 44
        }
      ]
    },
    {
      "cell_type": "code",
      "metadata": {
        "colab": {
          "base_uri": "https://localhost:8080/",
          "height": 419
        },
        "id": "4YCqVX40qUz9",
        "outputId": "0ea54e3a-8dea-43c4-c73c-10db3e476b0a"
      },
      "source": [
        "h['obj1']"
      ],
      "execution_count": 45,
      "outputs": [
        {
          "output_type": "execute_result",
          "data": {
            "text/html": [
              "<div>\n",
              "<style scoped>\n",
              "    .dataframe tbody tr th:only-of-type {\n",
              "        vertical-align: middle;\n",
              "    }\n",
              "\n",
              "    .dataframe tbody tr th {\n",
              "        vertical-align: top;\n",
              "    }\n",
              "\n",
              "    .dataframe thead th {\n",
              "        text-align: right;\n",
              "    }\n",
              "</style>\n",
              "<table border=\"1\" class=\"dataframe\">\n",
              "  <thead>\n",
              "    <tr style=\"text-align: right;\">\n",
              "      <th></th>\n",
              "      <th>a</th>\n",
              "      <th>b</th>\n",
              "      <th>c</th>\n",
              "    </tr>\n",
              "  </thead>\n",
              "  <tbody>\n",
              "    <tr>\n",
              "      <th>0</th>\n",
              "      <td>-0.935313</td>\n",
              "      <td>-1.646714</td>\n",
              "      <td>0.288740</td>\n",
              "    </tr>\n",
              "    <tr>\n",
              "      <th>1</th>\n",
              "      <td>0.801716</td>\n",
              "      <td>-0.219507</td>\n",
              "      <td>-2.147780</td>\n",
              "    </tr>\n",
              "    <tr>\n",
              "      <th>2</th>\n",
              "      <td>0.912506</td>\n",
              "      <td>-0.133249</td>\n",
              "      <td>-0.921406</td>\n",
              "    </tr>\n",
              "    <tr>\n",
              "      <th>3</th>\n",
              "      <td>1.314931</td>\n",
              "      <td>-0.569361</td>\n",
              "      <td>1.144766</td>\n",
              "    </tr>\n",
              "    <tr>\n",
              "      <th>4</th>\n",
              "      <td>0.369215</td>\n",
              "      <td>-2.479816</td>\n",
              "      <td>-0.349906</td>\n",
              "    </tr>\n",
              "    <tr>\n",
              "      <th>...</th>\n",
              "      <td>...</td>\n",
              "      <td>...</td>\n",
              "      <td>...</td>\n",
              "    </tr>\n",
              "    <tr>\n",
              "      <th>95</th>\n",
              "      <td>1.035640</td>\n",
              "      <td>0.129676</td>\n",
              "      <td>-0.439380</td>\n",
              "    </tr>\n",
              "    <tr>\n",
              "      <th>96</th>\n",
              "      <td>-0.264234</td>\n",
              "      <td>-0.152521</td>\n",
              "      <td>2.035761</td>\n",
              "    </tr>\n",
              "    <tr>\n",
              "      <th>97</th>\n",
              "      <td>1.379658</td>\n",
              "      <td>0.848404</td>\n",
              "      <td>1.324203</td>\n",
              "    </tr>\n",
              "    <tr>\n",
              "      <th>98</th>\n",
              "      <td>-0.207253</td>\n",
              "      <td>-0.428760</td>\n",
              "      <td>-2.058538</td>\n",
              "    </tr>\n",
              "    <tr>\n",
              "      <th>99</th>\n",
              "      <td>0.154417</td>\n",
              "      <td>-1.049905</td>\n",
              "      <td>-0.229660</td>\n",
              "    </tr>\n",
              "  </tbody>\n",
              "</table>\n",
              "<p>100 rows × 3 columns</p>\n",
              "</div>"
            ],
            "text/plain": [
              "           a         b         c\n",
              "0  -0.935313 -1.646714  0.288740\n",
              "1   0.801716 -0.219507 -2.147780\n",
              "2   0.912506 -0.133249 -0.921406\n",
              "3   1.314931 -0.569361  1.144766\n",
              "4   0.369215 -2.479816 -0.349906\n",
              "..       ...       ...       ...\n",
              "95  1.035640  0.129676 -0.439380\n",
              "96 -0.264234 -0.152521  2.035761\n",
              "97  1.379658  0.848404  1.324203\n",
              "98 -0.207253 -0.428760 -2.058538\n",
              "99  0.154417 -1.049905 -0.229660\n",
              "\n",
              "[100 rows x 3 columns]"
            ]
          },
          "metadata": {
            "tags": []
          },
          "execution_count": 45
        }
      ]
    },
    {
      "cell_type": "code",
      "metadata": {
        "id": "0eOCH5IlqbJ7"
      },
      "source": [
        "h.put('obj2', df, format='table')"
      ],
      "execution_count": 46,
      "outputs": []
    },
    {
      "cell_type": "code",
      "metadata": {
        "colab": {
          "base_uri": "https://localhost:8080/",
          "height": 359
        },
        "id": "pmlWjQxXql9b",
        "outputId": "cc3e9779-d737-4da1-e8ca-a49d545aa290"
      },
      "source": [
        "h.select('obj2', where='index > 50 and index <= 60')"
      ],
      "execution_count": 47,
      "outputs": [
        {
          "output_type": "execute_result",
          "data": {
            "text/html": [
              "<div>\n",
              "<style scoped>\n",
              "    .dataframe tbody tr th:only-of-type {\n",
              "        vertical-align: middle;\n",
              "    }\n",
              "\n",
              "    .dataframe tbody tr th {\n",
              "        vertical-align: top;\n",
              "    }\n",
              "\n",
              "    .dataframe thead th {\n",
              "        text-align: right;\n",
              "    }\n",
              "</style>\n",
              "<table border=\"1\" class=\"dataframe\">\n",
              "  <thead>\n",
              "    <tr style=\"text-align: right;\">\n",
              "      <th></th>\n",
              "      <th>a</th>\n",
              "      <th>b</th>\n",
              "      <th>c</th>\n",
              "    </tr>\n",
              "  </thead>\n",
              "  <tbody>\n",
              "    <tr>\n",
              "      <th>51</th>\n",
              "      <td>0.885524</td>\n",
              "      <td>-1.939437</td>\n",
              "      <td>0.882858</td>\n",
              "    </tr>\n",
              "    <tr>\n",
              "      <th>52</th>\n",
              "      <td>2.053541</td>\n",
              "      <td>-1.162306</td>\n",
              "      <td>-1.099877</td>\n",
              "    </tr>\n",
              "    <tr>\n",
              "      <th>53</th>\n",
              "      <td>-0.564032</td>\n",
              "      <td>1.020768</td>\n",
              "      <td>1.284132</td>\n",
              "    </tr>\n",
              "    <tr>\n",
              "      <th>54</th>\n",
              "      <td>0.298115</td>\n",
              "      <td>0.141538</td>\n",
              "      <td>1.215971</td>\n",
              "    </tr>\n",
              "    <tr>\n",
              "      <th>55</th>\n",
              "      <td>0.016292</td>\n",
              "      <td>-0.297168</td>\n",
              "      <td>0.163106</td>\n",
              "    </tr>\n",
              "    <tr>\n",
              "      <th>56</th>\n",
              "      <td>1.271567</td>\n",
              "      <td>-0.576035</td>\n",
              "      <td>-1.819398</td>\n",
              "    </tr>\n",
              "    <tr>\n",
              "      <th>57</th>\n",
              "      <td>-0.665918</td>\n",
              "      <td>0.717221</td>\n",
              "      <td>-0.771451</td>\n",
              "    </tr>\n",
              "    <tr>\n",
              "      <th>58</th>\n",
              "      <td>-1.110903</td>\n",
              "      <td>-0.682704</td>\n",
              "      <td>-0.070726</td>\n",
              "    </tr>\n",
              "    <tr>\n",
              "      <th>59</th>\n",
              "      <td>-0.926664</td>\n",
              "      <td>0.199962</td>\n",
              "      <td>1.385450</td>\n",
              "    </tr>\n",
              "    <tr>\n",
              "      <th>60</th>\n",
              "      <td>0.817364</td>\n",
              "      <td>-0.097213</td>\n",
              "      <td>1.407828</td>\n",
              "    </tr>\n",
              "  </tbody>\n",
              "</table>\n",
              "</div>"
            ],
            "text/plain": [
              "           a         b         c\n",
              "51  0.885524 -1.939437  0.882858\n",
              "52  2.053541 -1.162306 -1.099877\n",
              "53 -0.564032  1.020768  1.284132\n",
              "54  0.298115  0.141538  1.215971\n",
              "55  0.016292 -0.297168  0.163106\n",
              "56  1.271567 -0.576035 -1.819398\n",
              "57 -0.665918  0.717221 -0.771451\n",
              "58 -1.110903 -0.682704 -0.070726\n",
              "59 -0.926664  0.199962  1.385450\n",
              "60  0.817364 -0.097213  1.407828"
            ]
          },
          "metadata": {
            "tags": []
          },
          "execution_count": 47
        }
      ]
    },
    {
      "cell_type": "code",
      "metadata": {
        "id": "0IGUYwHqqxj0"
      },
      "source": [
        "h.close()"
      ],
      "execution_count": 48,
      "outputs": []
    },
    {
      "cell_type": "code",
      "metadata": {
        "id": "vwSiOzalq0-j"
      },
      "source": [
        "df.to_hdf('data.h5', 'obj3', format='table')"
      ],
      "execution_count": 49,
      "outputs": []
    },
    {
      "cell_type": "code",
      "metadata": {
        "colab": {
          "base_uri": "https://localhost:8080/",
          "height": 359
        },
        "id": "OG0qfcs5rLfL",
        "outputId": "58b7d485-3b47-4a92-8b53-7f1f756fedcc"
      },
      "source": [
        "pd.read_hdf('data.h5', 'obj3', where=['index < 10'])"
      ],
      "execution_count": 50,
      "outputs": [
        {
          "output_type": "execute_result",
          "data": {
            "text/html": [
              "<div>\n",
              "<style scoped>\n",
              "    .dataframe tbody tr th:only-of-type {\n",
              "        vertical-align: middle;\n",
              "    }\n",
              "\n",
              "    .dataframe tbody tr th {\n",
              "        vertical-align: top;\n",
              "    }\n",
              "\n",
              "    .dataframe thead th {\n",
              "        text-align: right;\n",
              "    }\n",
              "</style>\n",
              "<table border=\"1\" class=\"dataframe\">\n",
              "  <thead>\n",
              "    <tr style=\"text-align: right;\">\n",
              "      <th></th>\n",
              "      <th>a</th>\n",
              "      <th>b</th>\n",
              "      <th>c</th>\n",
              "    </tr>\n",
              "  </thead>\n",
              "  <tbody>\n",
              "    <tr>\n",
              "      <th>0</th>\n",
              "      <td>-0.935313</td>\n",
              "      <td>-1.646714</td>\n",
              "      <td>0.288740</td>\n",
              "    </tr>\n",
              "    <tr>\n",
              "      <th>1</th>\n",
              "      <td>0.801716</td>\n",
              "      <td>-0.219507</td>\n",
              "      <td>-2.147780</td>\n",
              "    </tr>\n",
              "    <tr>\n",
              "      <th>2</th>\n",
              "      <td>0.912506</td>\n",
              "      <td>-0.133249</td>\n",
              "      <td>-0.921406</td>\n",
              "    </tr>\n",
              "    <tr>\n",
              "      <th>3</th>\n",
              "      <td>1.314931</td>\n",
              "      <td>-0.569361</td>\n",
              "      <td>1.144766</td>\n",
              "    </tr>\n",
              "    <tr>\n",
              "      <th>4</th>\n",
              "      <td>0.369215</td>\n",
              "      <td>-2.479816</td>\n",
              "      <td>-0.349906</td>\n",
              "    </tr>\n",
              "    <tr>\n",
              "      <th>5</th>\n",
              "      <td>-1.759737</td>\n",
              "      <td>0.823228</td>\n",
              "      <td>1.692762</td>\n",
              "    </tr>\n",
              "    <tr>\n",
              "      <th>6</th>\n",
              "      <td>2.607972</td>\n",
              "      <td>-0.238124</td>\n",
              "      <td>-0.180180</td>\n",
              "    </tr>\n",
              "    <tr>\n",
              "      <th>7</th>\n",
              "      <td>2.118557</td>\n",
              "      <td>1.225974</td>\n",
              "      <td>0.152480</td>\n",
              "    </tr>\n",
              "    <tr>\n",
              "      <th>8</th>\n",
              "      <td>-0.541767</td>\n",
              "      <td>0.451080</td>\n",
              "      <td>-2.915364</td>\n",
              "    </tr>\n",
              "    <tr>\n",
              "      <th>9</th>\n",
              "      <td>0.549072</td>\n",
              "      <td>-1.885768</td>\n",
              "      <td>1.737928</td>\n",
              "    </tr>\n",
              "  </tbody>\n",
              "</table>\n",
              "</div>"
            ],
            "text/plain": [
              "          a         b         c\n",
              "0 -0.935313 -1.646714  0.288740\n",
              "1  0.801716 -0.219507 -2.147780\n",
              "2  0.912506 -0.133249 -0.921406\n",
              "3  1.314931 -0.569361  1.144766\n",
              "4  0.369215 -2.479816 -0.349906\n",
              "5 -1.759737  0.823228  1.692762\n",
              "6  2.607972 -0.238124 -0.180180\n",
              "7  2.118557  1.225974  0.152480\n",
              "8 -0.541767  0.451080 -2.915364\n",
              "9  0.549072 -1.885768  1.737928"
            ]
          },
          "metadata": {
            "tags": []
          },
          "execution_count": 50
        }
      ]
    },
    {
      "cell_type": "code",
      "metadata": {
        "id": "ZQgO3ptcra6T"
      },
      "source": [
        "df.to_excel('example.xlsx', 'Sheet1')"
      ],
      "execution_count": 51,
      "outputs": []
    },
    {
      "cell_type": "code",
      "metadata": {
        "colab": {
          "base_uri": "https://localhost:8080/"
        },
        "id": "kn6tNuxPrpCT",
        "outputId": "10af4f11-bc98-487e-de2f-7dd24e46a079"
      },
      "source": [
        "!ls"
      ],
      "execution_count": 52,
      "outputs": [
        {
          "output_type": "stream",
          "text": [
            "data.h5    example1.csv  example4.csv  example.json  output.json\n",
            "date.h5    example2.csv  example5.csv  example.xlsx  sample_data\n",
            "df_pickle  example3.txt  example6.csv  output.csv    ts.csv\n"
          ],
          "name": "stdout"
        }
      ]
    },
    {
      "cell_type": "code",
      "metadata": {
        "colab": {
          "base_uri": "https://localhost:8080/",
          "height": 419
        },
        "id": "7KCYX7Fvrpxb",
        "outputId": "941fccee-6432-4351-9351-14eeda3b076d"
      },
      "source": [
        "pd.read_excel('example.xlsx', 'Sheet1')"
      ],
      "execution_count": 53,
      "outputs": [
        {
          "output_type": "execute_result",
          "data": {
            "text/html": [
              "<div>\n",
              "<style scoped>\n",
              "    .dataframe tbody tr th:only-of-type {\n",
              "        vertical-align: middle;\n",
              "    }\n",
              "\n",
              "    .dataframe tbody tr th {\n",
              "        vertical-align: top;\n",
              "    }\n",
              "\n",
              "    .dataframe thead th {\n",
              "        text-align: right;\n",
              "    }\n",
              "</style>\n",
              "<table border=\"1\" class=\"dataframe\">\n",
              "  <thead>\n",
              "    <tr style=\"text-align: right;\">\n",
              "      <th></th>\n",
              "      <th>Unnamed: 0</th>\n",
              "      <th>a</th>\n",
              "      <th>b</th>\n",
              "      <th>c</th>\n",
              "    </tr>\n",
              "  </thead>\n",
              "  <tbody>\n",
              "    <tr>\n",
              "      <th>0</th>\n",
              "      <td>0</td>\n",
              "      <td>-0.935313</td>\n",
              "      <td>-1.646714</td>\n",
              "      <td>0.288740</td>\n",
              "    </tr>\n",
              "    <tr>\n",
              "      <th>1</th>\n",
              "      <td>1</td>\n",
              "      <td>0.801716</td>\n",
              "      <td>-0.219507</td>\n",
              "      <td>-2.147780</td>\n",
              "    </tr>\n",
              "    <tr>\n",
              "      <th>2</th>\n",
              "      <td>2</td>\n",
              "      <td>0.912506</td>\n",
              "      <td>-0.133249</td>\n",
              "      <td>-0.921406</td>\n",
              "    </tr>\n",
              "    <tr>\n",
              "      <th>3</th>\n",
              "      <td>3</td>\n",
              "      <td>1.314931</td>\n",
              "      <td>-0.569361</td>\n",
              "      <td>1.144766</td>\n",
              "    </tr>\n",
              "    <tr>\n",
              "      <th>4</th>\n",
              "      <td>4</td>\n",
              "      <td>0.369215</td>\n",
              "      <td>-2.479816</td>\n",
              "      <td>-0.349906</td>\n",
              "    </tr>\n",
              "    <tr>\n",
              "      <th>...</th>\n",
              "      <td>...</td>\n",
              "      <td>...</td>\n",
              "      <td>...</td>\n",
              "      <td>...</td>\n",
              "    </tr>\n",
              "    <tr>\n",
              "      <th>95</th>\n",
              "      <td>95</td>\n",
              "      <td>1.035640</td>\n",
              "      <td>0.129676</td>\n",
              "      <td>-0.439380</td>\n",
              "    </tr>\n",
              "    <tr>\n",
              "      <th>96</th>\n",
              "      <td>96</td>\n",
              "      <td>-0.264234</td>\n",
              "      <td>-0.152521</td>\n",
              "      <td>2.035761</td>\n",
              "    </tr>\n",
              "    <tr>\n",
              "      <th>97</th>\n",
              "      <td>97</td>\n",
              "      <td>1.379658</td>\n",
              "      <td>0.848404</td>\n",
              "      <td>1.324203</td>\n",
              "    </tr>\n",
              "    <tr>\n",
              "      <th>98</th>\n",
              "      <td>98</td>\n",
              "      <td>-0.207253</td>\n",
              "      <td>-0.428760</td>\n",
              "      <td>-2.058538</td>\n",
              "    </tr>\n",
              "    <tr>\n",
              "      <th>99</th>\n",
              "      <td>99</td>\n",
              "      <td>0.154417</td>\n",
              "      <td>-1.049905</td>\n",
              "      <td>-0.229660</td>\n",
              "    </tr>\n",
              "  </tbody>\n",
              "</table>\n",
              "<p>100 rows × 4 columns</p>\n",
              "</div>"
            ],
            "text/plain": [
              "    Unnamed: 0         a         b         c\n",
              "0            0 -0.935313 -1.646714  0.288740\n",
              "1            1  0.801716 -0.219507 -2.147780\n",
              "2            2  0.912506 -0.133249 -0.921406\n",
              "3            3  1.314931 -0.569361  1.144766\n",
              "4            4  0.369215 -2.479816 -0.349906\n",
              "..         ...       ...       ...       ...\n",
              "95          95  1.035640  0.129676 -0.439380\n",
              "96          96 -0.264234 -0.152521  2.035761\n",
              "97          97  1.379658  0.848404  1.324203\n",
              "98          98 -0.207253 -0.428760 -2.058538\n",
              "99          99  0.154417 -1.049905 -0.229660\n",
              "\n",
              "[100 rows x 4 columns]"
            ]
          },
          "metadata": {
            "tags": []
          },
          "execution_count": 53
        }
      ]
    },
    {
      "cell_type": "markdown",
      "metadata": {
        "id": "vaSzoJPqr6cG"
      },
      "source": [
        "# 데이터 정제"
      ]
    },
    {
      "cell_type": "markdown",
      "metadata": {
        "id": "Bf3NcLGHr5vT"
      },
      "source": [
        "## 누락값 처리\n",
        "\n",
        "*   대부분의 실제 데이터들은 정제되지 않고 누락값들이 존재\n",
        "*   서로 다른 데이터들은 다른 형태의 결측을 가짐\n",
        "*   결측 데이터는 null, NaN, NA로 표기"
      ]
    },
    {
      "cell_type": "markdown",
      "metadata": {
        "id": "Vi43AoQtshtB"
      },
      "source": [
        "### None : 파이썬 누락 데이터"
      ]
    },
    {
      "cell_type": "code",
      "metadata": {
        "colab": {
          "base_uri": "https://localhost:8080/"
        },
        "id": "oKnC2qISr0sT",
        "outputId": "2fc075be-2845-4fea-a9a4-8dbcca4801f5"
      },
      "source": [
        "a = np.array([1, 2, None, 4, 5])\n",
        "a"
      ],
      "execution_count": 54,
      "outputs": [
        {
          "output_type": "execute_result",
          "data": {
            "text/plain": [
              "array([1, 2, None, 4, 5], dtype=object)"
            ]
          },
          "metadata": {
            "tags": []
          },
          "execution_count": 54
        }
      ]
    },
    {
      "cell_type": "code",
      "metadata": {
        "id": "tVsHSESMs5Yk"
      },
      "source": [
        "# a.sum()"
      ],
      "execution_count": 57,
      "outputs": []
    },
    {
      "cell_type": "markdown",
      "metadata": {
        "id": "sXPvknXMtHVL"
      },
      "source": [
        "### NaN : 누락된 수치 데이터"
      ]
    },
    {
      "cell_type": "code",
      "metadata": {
        "colab": {
          "base_uri": "https://localhost:8080/"
        },
        "id": "8ZzrfT-JtA1r",
        "outputId": "7a37a546-049a-4026-f7a2-08c4b9fb898f"
      },
      "source": [
        "a = np.array([1, 2, np.nan, 4, 5])\n",
        "a.dtype"
      ],
      "execution_count": 58,
      "outputs": [
        {
          "output_type": "execute_result",
          "data": {
            "text/plain": [
              "dtype('float64')"
            ]
          },
          "metadata": {
            "tags": []
          },
          "execution_count": 58
        }
      ]
    },
    {
      "cell_type": "code",
      "metadata": {
        "colab": {
          "base_uri": "https://localhost:8080/"
        },
        "id": "cgM3tToPtTJc",
        "outputId": "026b4a2b-7872-42bc-b831-c20e75d6841c"
      },
      "source": [
        "0 + np.nan"
      ],
      "execution_count": 59,
      "outputs": [
        {
          "output_type": "execute_result",
          "data": {
            "text/plain": [
              "nan"
            ]
          },
          "metadata": {
            "tags": []
          },
          "execution_count": 59
        }
      ]
    },
    {
      "cell_type": "code",
      "metadata": {
        "colab": {
          "base_uri": "https://localhost:8080/"
        },
        "id": "qSepzeBStYBL",
        "outputId": "c1884ee7-adfd-45e6-d860-bd8fdaaa127a"
      },
      "source": [
        "np.nan + np.nan"
      ],
      "execution_count": 60,
      "outputs": [
        {
          "output_type": "execute_result",
          "data": {
            "text/plain": [
              "nan"
            ]
          },
          "metadata": {
            "tags": []
          },
          "execution_count": 60
        }
      ]
    },
    {
      "cell_type": "code",
      "metadata": {
        "colab": {
          "base_uri": "https://localhost:8080/"
        },
        "id": "tyT9o0u3tZpU",
        "outputId": "2ea86361-f29c-43e0-9a0b-a289a6f800c0"
      },
      "source": [
        "a.sum(), a.min(), a.max()"
      ],
      "execution_count": 61,
      "outputs": [
        {
          "output_type": "execute_result",
          "data": {
            "text/plain": [
              "(nan, nan, nan)"
            ]
          },
          "metadata": {
            "tags": []
          },
          "execution_count": 61
        }
      ]
    },
    {
      "cell_type": "code",
      "metadata": {
        "colab": {
          "base_uri": "https://localhost:8080/"
        },
        "id": "jwIL3Pt-tdTj",
        "outputId": "9a262be5-8b5d-4acd-df3b-34b5a538693f"
      },
      "source": [
        "np.nansum(a), np.nanmin(a), np.nanmax(a)\n",
        "# nan값이 있는것을 고려해서 nan값은 무시하고 계산하는 함수"
      ],
      "execution_count": 62,
      "outputs": [
        {
          "output_type": "execute_result",
          "data": {
            "text/plain": [
              "(12.0, 1.0, 5.0)"
            ]
          },
          "metadata": {
            "tags": []
          },
          "execution_count": 62
        }
      ]
    },
    {
      "cell_type": "code",
      "metadata": {
        "colab": {
          "base_uri": "https://localhost:8080/"
        },
        "id": "dTBQBLC9tklb",
        "outputId": "b34ac3b2-edea-4778-88fd-f07cfa867a9e"
      },
      "source": [
        "pd.Series([1, 2, np.nan, 4, None])"
      ],
      "execution_count": 63,
      "outputs": [
        {
          "output_type": "execute_result",
          "data": {
            "text/plain": [
              "0    1.0\n",
              "1    2.0\n",
              "2    NaN\n",
              "3    4.0\n",
              "4    NaN\n",
              "dtype: float64"
            ]
          },
          "metadata": {
            "tags": []
          },
          "execution_count": 63
        }
      ]
    },
    {
      "cell_type": "code",
      "metadata": {
        "colab": {
          "base_uri": "https://localhost:8080/"
        },
        "id": "8vtwkkDnt7Tb",
        "outputId": "0cf45c61-286b-4fda-db32-7b788d4b6a72"
      },
      "source": [
        "s = pd.Series(range(5), dtype=int)\n",
        "s"
      ],
      "execution_count": 64,
      "outputs": [
        {
          "output_type": "execute_result",
          "data": {
            "text/plain": [
              "0    0\n",
              "1    1\n",
              "2    2\n",
              "3    3\n",
              "4    4\n",
              "dtype: int64"
            ]
          },
          "metadata": {
            "tags": []
          },
          "execution_count": 64
        }
      ]
    },
    {
      "cell_type": "code",
      "metadata": {
        "colab": {
          "base_uri": "https://localhost:8080/"
        },
        "id": "hs3FQ6IeuCsD",
        "outputId": "ce40971c-37f1-4d85-940e-d3ce24ecb9a1"
      },
      "source": [
        "s[0] = None\n",
        "s"
      ],
      "execution_count": 65,
      "outputs": [
        {
          "output_type": "execute_result",
          "data": {
            "text/plain": [
              "0    NaN\n",
              "1    1.0\n",
              "2    2.0\n",
              "3    3.0\n",
              "4    4.0\n",
              "dtype: float64"
            ]
          },
          "metadata": {
            "tags": []
          },
          "execution_count": 65
        }
      ]
    },
    {
      "cell_type": "code",
      "metadata": {
        "colab": {
          "base_uri": "https://localhost:8080/"
        },
        "id": "9SaG5mkGuGvz",
        "outputId": "0c3d0113-c525-4a5b-9243-949b9f9ab7f3"
      },
      "source": [
        "s[3] = np.nan\n",
        "s"
      ],
      "execution_count": 67,
      "outputs": [
        {
          "output_type": "execute_result",
          "data": {
            "text/plain": [
              "0    NaN\n",
              "1    1.0\n",
              "2    2.0\n",
              "3    NaN\n",
              "4    4.0\n",
              "dtype: float64"
            ]
          },
          "metadata": {
            "tags": []
          },
          "execution_count": 67
        }
      ]
    },
    {
      "cell_type": "code",
      "metadata": {
        "colab": {
          "base_uri": "https://localhost:8080/"
        },
        "id": "oIpKk7n7uOYS",
        "outputId": "4f76c276-1163-4f84-a921-5a510c7fe28c"
      },
      "source": [
        "s = pd.Series([True, False, None, np.nan])\n",
        "s"
      ],
      "execution_count": 68,
      "outputs": [
        {
          "output_type": "execute_result",
          "data": {
            "text/plain": [
              "0     True\n",
              "1    False\n",
              "2     None\n",
              "3      NaN\n",
              "dtype: object"
            ]
          },
          "metadata": {
            "tags": []
          },
          "execution_count": 68
        }
      ]
    },
    {
      "cell_type": "markdown",
      "metadata": {
        "id": "74ePc2Nnua8G"
      },
      "source": [
        "### Null값 처리"
      ]
    },
    {
      "cell_type": "code",
      "metadata": {
        "colab": {
          "base_uri": "https://localhost:8080/"
        },
        "id": "4AElyDtPuWxc",
        "outputId": "b735c316-2243-4c48-e2ff-333e03740886"
      },
      "source": [
        "s = pd.Series([1, 2, np.nan, 'String', None])\n",
        "s"
      ],
      "execution_count": 69,
      "outputs": [
        {
          "output_type": "execute_result",
          "data": {
            "text/plain": [
              "0         1\n",
              "1         2\n",
              "2       NaN\n",
              "3    String\n",
              "4      None\n",
              "dtype: object"
            ]
          },
          "metadata": {
            "tags": []
          },
          "execution_count": 69
        }
      ]
    },
    {
      "cell_type": "code",
      "metadata": {
        "colab": {
          "base_uri": "https://localhost:8080/"
        },
        "id": "Dt-a_T_Uum8S",
        "outputId": "31cdef21-5d07-4bb4-9cd4-fe772e5398c1"
      },
      "source": [
        "s.isnull()"
      ],
      "execution_count": 70,
      "outputs": [
        {
          "output_type": "execute_result",
          "data": {
            "text/plain": [
              "0    False\n",
              "1    False\n",
              "2     True\n",
              "3    False\n",
              "4     True\n",
              "dtype: bool"
            ]
          },
          "metadata": {
            "tags": []
          },
          "execution_count": 70
        }
      ]
    },
    {
      "cell_type": "code",
      "metadata": {
        "colab": {
          "base_uri": "https://localhost:8080/"
        },
        "id": "FwvFor6duoTj",
        "outputId": "f4e9ac11-b793-4ee4-bbad-68bfa3294e6b"
      },
      "source": [
        "s[s.notnull()]"
      ],
      "execution_count": 71,
      "outputs": [
        {
          "output_type": "execute_result",
          "data": {
            "text/plain": [
              "0         1\n",
              "1         2\n",
              "3    String\n",
              "dtype: object"
            ]
          },
          "metadata": {
            "tags": []
          },
          "execution_count": 71
        }
      ]
    },
    {
      "cell_type": "code",
      "metadata": {
        "colab": {
          "base_uri": "https://localhost:8080/"
        },
        "id": "UFJYCjMEusE7",
        "outputId": "ffec2c52-4eae-425a-873f-e5ca3b8aa85c"
      },
      "source": [
        "s.dropna()"
      ],
      "execution_count": 72,
      "outputs": [
        {
          "output_type": "execute_result",
          "data": {
            "text/plain": [
              "0         1\n",
              "1         2\n",
              "3    String\n",
              "dtype: object"
            ]
          },
          "metadata": {
            "tags": []
          },
          "execution_count": 72
        }
      ]
    },
    {
      "cell_type": "code",
      "metadata": {
        "colab": {
          "base_uri": "https://localhost:8080/",
          "height": 419
        },
        "id": "5Yy07MAFuvmL",
        "outputId": "553a6926-1d3c-45a7-b8da-334bf5401870"
      },
      "source": [
        "df.dropna(axis='columns')"
      ],
      "execution_count": 73,
      "outputs": [
        {
          "output_type": "execute_result",
          "data": {
            "text/html": [
              "<div>\n",
              "<style scoped>\n",
              "    .dataframe tbody tr th:only-of-type {\n",
              "        vertical-align: middle;\n",
              "    }\n",
              "\n",
              "    .dataframe tbody tr th {\n",
              "        vertical-align: top;\n",
              "    }\n",
              "\n",
              "    .dataframe thead th {\n",
              "        text-align: right;\n",
              "    }\n",
              "</style>\n",
              "<table border=\"1\" class=\"dataframe\">\n",
              "  <thead>\n",
              "    <tr style=\"text-align: right;\">\n",
              "      <th></th>\n",
              "      <th>a</th>\n",
              "      <th>b</th>\n",
              "      <th>c</th>\n",
              "    </tr>\n",
              "  </thead>\n",
              "  <tbody>\n",
              "    <tr>\n",
              "      <th>0</th>\n",
              "      <td>-0.935313</td>\n",
              "      <td>-1.646714</td>\n",
              "      <td>0.288740</td>\n",
              "    </tr>\n",
              "    <tr>\n",
              "      <th>1</th>\n",
              "      <td>0.801716</td>\n",
              "      <td>-0.219507</td>\n",
              "      <td>-2.147780</td>\n",
              "    </tr>\n",
              "    <tr>\n",
              "      <th>2</th>\n",
              "      <td>0.912506</td>\n",
              "      <td>-0.133249</td>\n",
              "      <td>-0.921406</td>\n",
              "    </tr>\n",
              "    <tr>\n",
              "      <th>3</th>\n",
              "      <td>1.314931</td>\n",
              "      <td>-0.569361</td>\n",
              "      <td>1.144766</td>\n",
              "    </tr>\n",
              "    <tr>\n",
              "      <th>4</th>\n",
              "      <td>0.369215</td>\n",
              "      <td>-2.479816</td>\n",
              "      <td>-0.349906</td>\n",
              "    </tr>\n",
              "    <tr>\n",
              "      <th>...</th>\n",
              "      <td>...</td>\n",
              "      <td>...</td>\n",
              "      <td>...</td>\n",
              "    </tr>\n",
              "    <tr>\n",
              "      <th>95</th>\n",
              "      <td>1.035640</td>\n",
              "      <td>0.129676</td>\n",
              "      <td>-0.439380</td>\n",
              "    </tr>\n",
              "    <tr>\n",
              "      <th>96</th>\n",
              "      <td>-0.264234</td>\n",
              "      <td>-0.152521</td>\n",
              "      <td>2.035761</td>\n",
              "    </tr>\n",
              "    <tr>\n",
              "      <th>97</th>\n",
              "      <td>1.379658</td>\n",
              "      <td>0.848404</td>\n",
              "      <td>1.324203</td>\n",
              "    </tr>\n",
              "    <tr>\n",
              "      <th>98</th>\n",
              "      <td>-0.207253</td>\n",
              "      <td>-0.428760</td>\n",
              "      <td>-2.058538</td>\n",
              "    </tr>\n",
              "    <tr>\n",
              "      <th>99</th>\n",
              "      <td>0.154417</td>\n",
              "      <td>-1.049905</td>\n",
              "      <td>-0.229660</td>\n",
              "    </tr>\n",
              "  </tbody>\n",
              "</table>\n",
              "<p>100 rows × 3 columns</p>\n",
              "</div>"
            ],
            "text/plain": [
              "           a         b         c\n",
              "0  -0.935313 -1.646714  0.288740\n",
              "1   0.801716 -0.219507 -2.147780\n",
              "2   0.912506 -0.133249 -0.921406\n",
              "3   1.314931 -0.569361  1.144766\n",
              "4   0.369215 -2.479816 -0.349906\n",
              "..       ...       ...       ...\n",
              "95  1.035640  0.129676 -0.439380\n",
              "96 -0.264234 -0.152521  2.035761\n",
              "97  1.379658  0.848404  1.324203\n",
              "98 -0.207253 -0.428760 -2.058538\n",
              "99  0.154417 -1.049905 -0.229660\n",
              "\n",
              "[100 rows x 3 columns]"
            ]
          },
          "metadata": {
            "tags": []
          },
          "execution_count": 73
        }
      ]
    },
    {
      "cell_type": "code",
      "metadata": {
        "colab": {
          "base_uri": "https://localhost:8080/",
          "height": 419
        },
        "id": "Zy0MFHtwu4JT",
        "outputId": "ff8c185f-0be3-47d9-842b-80f17783629f"
      },
      "source": [
        "df[3] = np.nan\n",
        "df"
      ],
      "execution_count": 74,
      "outputs": [
        {
          "output_type": "execute_result",
          "data": {
            "text/html": [
              "<div>\n",
              "<style scoped>\n",
              "    .dataframe tbody tr th:only-of-type {\n",
              "        vertical-align: middle;\n",
              "    }\n",
              "\n",
              "    .dataframe tbody tr th {\n",
              "        vertical-align: top;\n",
              "    }\n",
              "\n",
              "    .dataframe thead th {\n",
              "        text-align: right;\n",
              "    }\n",
              "</style>\n",
              "<table border=\"1\" class=\"dataframe\">\n",
              "  <thead>\n",
              "    <tr style=\"text-align: right;\">\n",
              "      <th></th>\n",
              "      <th>a</th>\n",
              "      <th>b</th>\n",
              "      <th>c</th>\n",
              "      <th>3</th>\n",
              "    </tr>\n",
              "  </thead>\n",
              "  <tbody>\n",
              "    <tr>\n",
              "      <th>0</th>\n",
              "      <td>-0.935313</td>\n",
              "      <td>-1.646714</td>\n",
              "      <td>0.288740</td>\n",
              "      <td>NaN</td>\n",
              "    </tr>\n",
              "    <tr>\n",
              "      <th>1</th>\n",
              "      <td>0.801716</td>\n",
              "      <td>-0.219507</td>\n",
              "      <td>-2.147780</td>\n",
              "      <td>NaN</td>\n",
              "    </tr>\n",
              "    <tr>\n",
              "      <th>2</th>\n",
              "      <td>0.912506</td>\n",
              "      <td>-0.133249</td>\n",
              "      <td>-0.921406</td>\n",
              "      <td>NaN</td>\n",
              "    </tr>\n",
              "    <tr>\n",
              "      <th>3</th>\n",
              "      <td>1.314931</td>\n",
              "      <td>-0.569361</td>\n",
              "      <td>1.144766</td>\n",
              "      <td>NaN</td>\n",
              "    </tr>\n",
              "    <tr>\n",
              "      <th>4</th>\n",
              "      <td>0.369215</td>\n",
              "      <td>-2.479816</td>\n",
              "      <td>-0.349906</td>\n",
              "      <td>NaN</td>\n",
              "    </tr>\n",
              "    <tr>\n",
              "      <th>...</th>\n",
              "      <td>...</td>\n",
              "      <td>...</td>\n",
              "      <td>...</td>\n",
              "      <td>...</td>\n",
              "    </tr>\n",
              "    <tr>\n",
              "      <th>95</th>\n",
              "      <td>1.035640</td>\n",
              "      <td>0.129676</td>\n",
              "      <td>-0.439380</td>\n",
              "      <td>NaN</td>\n",
              "    </tr>\n",
              "    <tr>\n",
              "      <th>96</th>\n",
              "      <td>-0.264234</td>\n",
              "      <td>-0.152521</td>\n",
              "      <td>2.035761</td>\n",
              "      <td>NaN</td>\n",
              "    </tr>\n",
              "    <tr>\n",
              "      <th>97</th>\n",
              "      <td>1.379658</td>\n",
              "      <td>0.848404</td>\n",
              "      <td>1.324203</td>\n",
              "      <td>NaN</td>\n",
              "    </tr>\n",
              "    <tr>\n",
              "      <th>98</th>\n",
              "      <td>-0.207253</td>\n",
              "      <td>-0.428760</td>\n",
              "      <td>-2.058538</td>\n",
              "      <td>NaN</td>\n",
              "    </tr>\n",
              "    <tr>\n",
              "      <th>99</th>\n",
              "      <td>0.154417</td>\n",
              "      <td>-1.049905</td>\n",
              "      <td>-0.229660</td>\n",
              "      <td>NaN</td>\n",
              "    </tr>\n",
              "  </tbody>\n",
              "</table>\n",
              "<p>100 rows × 4 columns</p>\n",
              "</div>"
            ],
            "text/plain": [
              "           a         b         c   3\n",
              "0  -0.935313 -1.646714  0.288740 NaN\n",
              "1   0.801716 -0.219507 -2.147780 NaN\n",
              "2   0.912506 -0.133249 -0.921406 NaN\n",
              "3   1.314931 -0.569361  1.144766 NaN\n",
              "4   0.369215 -2.479816 -0.349906 NaN\n",
              "..       ...       ...       ...  ..\n",
              "95  1.035640  0.129676 -0.439380 NaN\n",
              "96 -0.264234 -0.152521  2.035761 NaN\n",
              "97  1.379658  0.848404  1.324203 NaN\n",
              "98 -0.207253 -0.428760 -2.058538 NaN\n",
              "99  0.154417 -1.049905 -0.229660 NaN\n",
              "\n",
              "[100 rows x 4 columns]"
            ]
          },
          "metadata": {
            "tags": []
          },
          "execution_count": 74
        }
      ]
    },
    {
      "cell_type": "code",
      "metadata": {
        "colab": {
          "base_uri": "https://localhost:8080/",
          "height": 419
        },
        "id": "jLHdVaEVu-h7",
        "outputId": "a7671e76-3e5e-4eda-89ed-97265f0fb3fa"
      },
      "source": [
        "df.dropna(axis='columns', how='all')"
      ],
      "execution_count": 75,
      "outputs": [
        {
          "output_type": "execute_result",
          "data": {
            "text/html": [
              "<div>\n",
              "<style scoped>\n",
              "    .dataframe tbody tr th:only-of-type {\n",
              "        vertical-align: middle;\n",
              "    }\n",
              "\n",
              "    .dataframe tbody tr th {\n",
              "        vertical-align: top;\n",
              "    }\n",
              "\n",
              "    .dataframe thead th {\n",
              "        text-align: right;\n",
              "    }\n",
              "</style>\n",
              "<table border=\"1\" class=\"dataframe\">\n",
              "  <thead>\n",
              "    <tr style=\"text-align: right;\">\n",
              "      <th></th>\n",
              "      <th>a</th>\n",
              "      <th>b</th>\n",
              "      <th>c</th>\n",
              "    </tr>\n",
              "  </thead>\n",
              "  <tbody>\n",
              "    <tr>\n",
              "      <th>0</th>\n",
              "      <td>-0.935313</td>\n",
              "      <td>-1.646714</td>\n",
              "      <td>0.288740</td>\n",
              "    </tr>\n",
              "    <tr>\n",
              "      <th>1</th>\n",
              "      <td>0.801716</td>\n",
              "      <td>-0.219507</td>\n",
              "      <td>-2.147780</td>\n",
              "    </tr>\n",
              "    <tr>\n",
              "      <th>2</th>\n",
              "      <td>0.912506</td>\n",
              "      <td>-0.133249</td>\n",
              "      <td>-0.921406</td>\n",
              "    </tr>\n",
              "    <tr>\n",
              "      <th>3</th>\n",
              "      <td>1.314931</td>\n",
              "      <td>-0.569361</td>\n",
              "      <td>1.144766</td>\n",
              "    </tr>\n",
              "    <tr>\n",
              "      <th>4</th>\n",
              "      <td>0.369215</td>\n",
              "      <td>-2.479816</td>\n",
              "      <td>-0.349906</td>\n",
              "    </tr>\n",
              "    <tr>\n",
              "      <th>...</th>\n",
              "      <td>...</td>\n",
              "      <td>...</td>\n",
              "      <td>...</td>\n",
              "    </tr>\n",
              "    <tr>\n",
              "      <th>95</th>\n",
              "      <td>1.035640</td>\n",
              "      <td>0.129676</td>\n",
              "      <td>-0.439380</td>\n",
              "    </tr>\n",
              "    <tr>\n",
              "      <th>96</th>\n",
              "      <td>-0.264234</td>\n",
              "      <td>-0.152521</td>\n",
              "      <td>2.035761</td>\n",
              "    </tr>\n",
              "    <tr>\n",
              "      <th>97</th>\n",
              "      <td>1.379658</td>\n",
              "      <td>0.848404</td>\n",
              "      <td>1.324203</td>\n",
              "    </tr>\n",
              "    <tr>\n",
              "      <th>98</th>\n",
              "      <td>-0.207253</td>\n",
              "      <td>-0.428760</td>\n",
              "      <td>-2.058538</td>\n",
              "    </tr>\n",
              "    <tr>\n",
              "      <th>99</th>\n",
              "      <td>0.154417</td>\n",
              "      <td>-1.049905</td>\n",
              "      <td>-0.229660</td>\n",
              "    </tr>\n",
              "  </tbody>\n",
              "</table>\n",
              "<p>100 rows × 3 columns</p>\n",
              "</div>"
            ],
            "text/plain": [
              "           a         b         c\n",
              "0  -0.935313 -1.646714  0.288740\n",
              "1   0.801716 -0.219507 -2.147780\n",
              "2   0.912506 -0.133249 -0.921406\n",
              "3   1.314931 -0.569361  1.144766\n",
              "4   0.369215 -2.479816 -0.349906\n",
              "..       ...       ...       ...\n",
              "95  1.035640  0.129676 -0.439380\n",
              "96 -0.264234 -0.152521  2.035761\n",
              "97  1.379658  0.848404  1.324203\n",
              "98 -0.207253 -0.428760 -2.058538\n",
              "99  0.154417 -1.049905 -0.229660\n",
              "\n",
              "[100 rows x 3 columns]"
            ]
          },
          "metadata": {
            "tags": []
          },
          "execution_count": 75
        }
      ]
    },
    {
      "cell_type": "code",
      "metadata": {
        "colab": {
          "base_uri": "https://localhost:8080/",
          "height": 419
        },
        "id": "FPK6piTFvH4L",
        "outputId": "dbfd37ee-53ef-4eb4-e3d7-91eb1dfd6b91"
      },
      "source": [
        "df.dropna(axis='rows', thresh=3)"
      ],
      "execution_count": 80,
      "outputs": [
        {
          "output_type": "execute_result",
          "data": {
            "text/html": [
              "<div>\n",
              "<style scoped>\n",
              "    .dataframe tbody tr th:only-of-type {\n",
              "        vertical-align: middle;\n",
              "    }\n",
              "\n",
              "    .dataframe tbody tr th {\n",
              "        vertical-align: top;\n",
              "    }\n",
              "\n",
              "    .dataframe thead th {\n",
              "        text-align: right;\n",
              "    }\n",
              "</style>\n",
              "<table border=\"1\" class=\"dataframe\">\n",
              "  <thead>\n",
              "    <tr style=\"text-align: right;\">\n",
              "      <th></th>\n",
              "      <th>a</th>\n",
              "      <th>b</th>\n",
              "      <th>c</th>\n",
              "      <th>3</th>\n",
              "    </tr>\n",
              "  </thead>\n",
              "  <tbody>\n",
              "    <tr>\n",
              "      <th>0</th>\n",
              "      <td>-0.935313</td>\n",
              "      <td>-1.646714</td>\n",
              "      <td>0.288740</td>\n",
              "      <td>NaN</td>\n",
              "    </tr>\n",
              "    <tr>\n",
              "      <th>1</th>\n",
              "      <td>0.801716</td>\n",
              "      <td>-0.219507</td>\n",
              "      <td>-2.147780</td>\n",
              "      <td>NaN</td>\n",
              "    </tr>\n",
              "    <tr>\n",
              "      <th>2</th>\n",
              "      <td>0.912506</td>\n",
              "      <td>-0.133249</td>\n",
              "      <td>-0.921406</td>\n",
              "      <td>NaN</td>\n",
              "    </tr>\n",
              "    <tr>\n",
              "      <th>3</th>\n",
              "      <td>1.314931</td>\n",
              "      <td>-0.569361</td>\n",
              "      <td>1.144766</td>\n",
              "      <td>NaN</td>\n",
              "    </tr>\n",
              "    <tr>\n",
              "      <th>4</th>\n",
              "      <td>0.369215</td>\n",
              "      <td>-2.479816</td>\n",
              "      <td>-0.349906</td>\n",
              "      <td>NaN</td>\n",
              "    </tr>\n",
              "    <tr>\n",
              "      <th>...</th>\n",
              "      <td>...</td>\n",
              "      <td>...</td>\n",
              "      <td>...</td>\n",
              "      <td>...</td>\n",
              "    </tr>\n",
              "    <tr>\n",
              "      <th>95</th>\n",
              "      <td>1.035640</td>\n",
              "      <td>0.129676</td>\n",
              "      <td>-0.439380</td>\n",
              "      <td>NaN</td>\n",
              "    </tr>\n",
              "    <tr>\n",
              "      <th>96</th>\n",
              "      <td>-0.264234</td>\n",
              "      <td>-0.152521</td>\n",
              "      <td>2.035761</td>\n",
              "      <td>NaN</td>\n",
              "    </tr>\n",
              "    <tr>\n",
              "      <th>97</th>\n",
              "      <td>1.379658</td>\n",
              "      <td>0.848404</td>\n",
              "      <td>1.324203</td>\n",
              "      <td>NaN</td>\n",
              "    </tr>\n",
              "    <tr>\n",
              "      <th>98</th>\n",
              "      <td>-0.207253</td>\n",
              "      <td>-0.428760</td>\n",
              "      <td>-2.058538</td>\n",
              "      <td>NaN</td>\n",
              "    </tr>\n",
              "    <tr>\n",
              "      <th>99</th>\n",
              "      <td>0.154417</td>\n",
              "      <td>-1.049905</td>\n",
              "      <td>-0.229660</td>\n",
              "      <td>NaN</td>\n",
              "    </tr>\n",
              "  </tbody>\n",
              "</table>\n",
              "<p>100 rows × 4 columns</p>\n",
              "</div>"
            ],
            "text/plain": [
              "           a         b         c   3\n",
              "0  -0.935313 -1.646714  0.288740 NaN\n",
              "1   0.801716 -0.219507 -2.147780 NaN\n",
              "2   0.912506 -0.133249 -0.921406 NaN\n",
              "3   1.314931 -0.569361  1.144766 NaN\n",
              "4   0.369215 -2.479816 -0.349906 NaN\n",
              "..       ...       ...       ...  ..\n",
              "95  1.035640  0.129676 -0.439380 NaN\n",
              "96 -0.264234 -0.152521  2.035761 NaN\n",
              "97  1.379658  0.848404  1.324203 NaN\n",
              "98 -0.207253 -0.428760 -2.058538 NaN\n",
              "99  0.154417 -1.049905 -0.229660 NaN\n",
              "\n",
              "[100 rows x 4 columns]"
            ]
          },
          "metadata": {
            "tags": []
          },
          "execution_count": 80
        }
      ]
    },
    {
      "cell_type": "code",
      "metadata": {
        "colab": {
          "base_uri": "https://localhost:8080/"
        },
        "id": "TQg8EjjCvYAb",
        "outputId": "da3842f6-6e7e-4245-856f-09436ffaa833"
      },
      "source": [
        "s"
      ],
      "execution_count": 81,
      "outputs": [
        {
          "output_type": "execute_result",
          "data": {
            "text/plain": [
              "0         1\n",
              "1         2\n",
              "2       NaN\n",
              "3    String\n",
              "4      None\n",
              "dtype: object"
            ]
          },
          "metadata": {
            "tags": []
          },
          "execution_count": 81
        }
      ]
    },
    {
      "cell_type": "code",
      "metadata": {
        "colab": {
          "base_uri": "https://localhost:8080/"
        },
        "id": "JmStm6UkvvHD",
        "outputId": "8db185af-5976-4fc8-a9d1-768d2bd6060f"
      },
      "source": [
        "s.fillna(0)"
      ],
      "execution_count": 83,
      "outputs": [
        {
          "output_type": "execute_result",
          "data": {
            "text/plain": [
              "0         1\n",
              "1         2\n",
              "2         0\n",
              "3    String\n",
              "4         0\n",
              "dtype: object"
            ]
          },
          "metadata": {
            "tags": []
          },
          "execution_count": 83
        }
      ]
    },
    {
      "cell_type": "code",
      "metadata": {
        "colab": {
          "base_uri": "https://localhost:8080/"
        },
        "id": "rGsu2hrNvyjk",
        "outputId": "6f4970c0-6071-40d7-d7c5-bed8a2c1d637"
      },
      "source": [
        "s.fillna(method='ffill')"
      ],
      "execution_count": 84,
      "outputs": [
        {
          "output_type": "execute_result",
          "data": {
            "text/plain": [
              "0         1\n",
              "1         2\n",
              "2         2\n",
              "3    String\n",
              "4    String\n",
              "dtype: object"
            ]
          },
          "metadata": {
            "tags": []
          },
          "execution_count": 84
        }
      ]
    },
    {
      "cell_type": "code",
      "metadata": {
        "colab": {
          "base_uri": "https://localhost:8080/"
        },
        "id": "jPhFBvjHv5Az",
        "outputId": "4c6d29cc-d199-4629-982c-cc265536d377"
      },
      "source": [
        "s.fillna(method='bfill')"
      ],
      "execution_count": 86,
      "outputs": [
        {
          "output_type": "execute_result",
          "data": {
            "text/plain": [
              "0         1\n",
              "1         2\n",
              "2    String\n",
              "3    String\n",
              "4      None\n",
              "dtype: object"
            ]
          },
          "metadata": {
            "tags": []
          },
          "execution_count": 86
        }
      ]
    },
    {
      "cell_type": "code",
      "metadata": {
        "colab": {
          "base_uri": "https://localhost:8080/",
          "height": 419
        },
        "id": "Cr2YjiSyv89z",
        "outputId": "493530a8-b354-4176-a013-ebda2d4b6ef8"
      },
      "source": [
        "df"
      ],
      "execution_count": 87,
      "outputs": [
        {
          "output_type": "execute_result",
          "data": {
            "text/html": [
              "<div>\n",
              "<style scoped>\n",
              "    .dataframe tbody tr th:only-of-type {\n",
              "        vertical-align: middle;\n",
              "    }\n",
              "\n",
              "    .dataframe tbody tr th {\n",
              "        vertical-align: top;\n",
              "    }\n",
              "\n",
              "    .dataframe thead th {\n",
              "        text-align: right;\n",
              "    }\n",
              "</style>\n",
              "<table border=\"1\" class=\"dataframe\">\n",
              "  <thead>\n",
              "    <tr style=\"text-align: right;\">\n",
              "      <th></th>\n",
              "      <th>a</th>\n",
              "      <th>b</th>\n",
              "      <th>c</th>\n",
              "      <th>3</th>\n",
              "    </tr>\n",
              "  </thead>\n",
              "  <tbody>\n",
              "    <tr>\n",
              "      <th>0</th>\n",
              "      <td>-0.935313</td>\n",
              "      <td>-1.646714</td>\n",
              "      <td>0.288740</td>\n",
              "      <td>NaN</td>\n",
              "    </tr>\n",
              "    <tr>\n",
              "      <th>1</th>\n",
              "      <td>0.801716</td>\n",
              "      <td>-0.219507</td>\n",
              "      <td>-2.147780</td>\n",
              "      <td>NaN</td>\n",
              "    </tr>\n",
              "    <tr>\n",
              "      <th>2</th>\n",
              "      <td>0.912506</td>\n",
              "      <td>-0.133249</td>\n",
              "      <td>-0.921406</td>\n",
              "      <td>NaN</td>\n",
              "    </tr>\n",
              "    <tr>\n",
              "      <th>3</th>\n",
              "      <td>1.314931</td>\n",
              "      <td>-0.569361</td>\n",
              "      <td>1.144766</td>\n",
              "      <td>NaN</td>\n",
              "    </tr>\n",
              "    <tr>\n",
              "      <th>4</th>\n",
              "      <td>0.369215</td>\n",
              "      <td>-2.479816</td>\n",
              "      <td>-0.349906</td>\n",
              "      <td>NaN</td>\n",
              "    </tr>\n",
              "    <tr>\n",
              "      <th>...</th>\n",
              "      <td>...</td>\n",
              "      <td>...</td>\n",
              "      <td>...</td>\n",
              "      <td>...</td>\n",
              "    </tr>\n",
              "    <tr>\n",
              "      <th>95</th>\n",
              "      <td>1.035640</td>\n",
              "      <td>0.129676</td>\n",
              "      <td>-0.439380</td>\n",
              "      <td>NaN</td>\n",
              "    </tr>\n",
              "    <tr>\n",
              "      <th>96</th>\n",
              "      <td>-0.264234</td>\n",
              "      <td>-0.152521</td>\n",
              "      <td>2.035761</td>\n",
              "      <td>NaN</td>\n",
              "    </tr>\n",
              "    <tr>\n",
              "      <th>97</th>\n",
              "      <td>1.379658</td>\n",
              "      <td>0.848404</td>\n",
              "      <td>1.324203</td>\n",
              "      <td>NaN</td>\n",
              "    </tr>\n",
              "    <tr>\n",
              "      <th>98</th>\n",
              "      <td>-0.207253</td>\n",
              "      <td>-0.428760</td>\n",
              "      <td>-2.058538</td>\n",
              "      <td>NaN</td>\n",
              "    </tr>\n",
              "    <tr>\n",
              "      <th>99</th>\n",
              "      <td>0.154417</td>\n",
              "      <td>-1.049905</td>\n",
              "      <td>-0.229660</td>\n",
              "      <td>NaN</td>\n",
              "    </tr>\n",
              "  </tbody>\n",
              "</table>\n",
              "<p>100 rows × 4 columns</p>\n",
              "</div>"
            ],
            "text/plain": [
              "           a         b         c   3\n",
              "0  -0.935313 -1.646714  0.288740 NaN\n",
              "1   0.801716 -0.219507 -2.147780 NaN\n",
              "2   0.912506 -0.133249 -0.921406 NaN\n",
              "3   1.314931 -0.569361  1.144766 NaN\n",
              "4   0.369215 -2.479816 -0.349906 NaN\n",
              "..       ...       ...       ...  ..\n",
              "95  1.035640  0.129676 -0.439380 NaN\n",
              "96 -0.264234 -0.152521  2.035761 NaN\n",
              "97  1.379658  0.848404  1.324203 NaN\n",
              "98 -0.207253 -0.428760 -2.058538 NaN\n",
              "99  0.154417 -1.049905 -0.229660 NaN\n",
              "\n",
              "[100 rows x 4 columns]"
            ]
          },
          "metadata": {
            "tags": []
          },
          "execution_count": 87
        }
      ]
    },
    {
      "cell_type": "code",
      "metadata": {
        "colab": {
          "base_uri": "https://localhost:8080/",
          "height": 419
        },
        "id": "rCfe_nVWwBqS",
        "outputId": "c4c981a7-767f-451e-904a-bffcca843b1f"
      },
      "source": [
        "df.fillna(method='ffill', axis=0)"
      ],
      "execution_count": 88,
      "outputs": [
        {
          "output_type": "execute_result",
          "data": {
            "text/html": [
              "<div>\n",
              "<style scoped>\n",
              "    .dataframe tbody tr th:only-of-type {\n",
              "        vertical-align: middle;\n",
              "    }\n",
              "\n",
              "    .dataframe tbody tr th {\n",
              "        vertical-align: top;\n",
              "    }\n",
              "\n",
              "    .dataframe thead th {\n",
              "        text-align: right;\n",
              "    }\n",
              "</style>\n",
              "<table border=\"1\" class=\"dataframe\">\n",
              "  <thead>\n",
              "    <tr style=\"text-align: right;\">\n",
              "      <th></th>\n",
              "      <th>a</th>\n",
              "      <th>b</th>\n",
              "      <th>c</th>\n",
              "      <th>3</th>\n",
              "    </tr>\n",
              "  </thead>\n",
              "  <tbody>\n",
              "    <tr>\n",
              "      <th>0</th>\n",
              "      <td>-0.935313</td>\n",
              "      <td>-1.646714</td>\n",
              "      <td>0.288740</td>\n",
              "      <td>NaN</td>\n",
              "    </tr>\n",
              "    <tr>\n",
              "      <th>1</th>\n",
              "      <td>0.801716</td>\n",
              "      <td>-0.219507</td>\n",
              "      <td>-2.147780</td>\n",
              "      <td>NaN</td>\n",
              "    </tr>\n",
              "    <tr>\n",
              "      <th>2</th>\n",
              "      <td>0.912506</td>\n",
              "      <td>-0.133249</td>\n",
              "      <td>-0.921406</td>\n",
              "      <td>NaN</td>\n",
              "    </tr>\n",
              "    <tr>\n",
              "      <th>3</th>\n",
              "      <td>1.314931</td>\n",
              "      <td>-0.569361</td>\n",
              "      <td>1.144766</td>\n",
              "      <td>NaN</td>\n",
              "    </tr>\n",
              "    <tr>\n",
              "      <th>4</th>\n",
              "      <td>0.369215</td>\n",
              "      <td>-2.479816</td>\n",
              "      <td>-0.349906</td>\n",
              "      <td>NaN</td>\n",
              "    </tr>\n",
              "    <tr>\n",
              "      <th>...</th>\n",
              "      <td>...</td>\n",
              "      <td>...</td>\n",
              "      <td>...</td>\n",
              "      <td>...</td>\n",
              "    </tr>\n",
              "    <tr>\n",
              "      <th>95</th>\n",
              "      <td>1.035640</td>\n",
              "      <td>0.129676</td>\n",
              "      <td>-0.439380</td>\n",
              "      <td>NaN</td>\n",
              "    </tr>\n",
              "    <tr>\n",
              "      <th>96</th>\n",
              "      <td>-0.264234</td>\n",
              "      <td>-0.152521</td>\n",
              "      <td>2.035761</td>\n",
              "      <td>NaN</td>\n",
              "    </tr>\n",
              "    <tr>\n",
              "      <th>97</th>\n",
              "      <td>1.379658</td>\n",
              "      <td>0.848404</td>\n",
              "      <td>1.324203</td>\n",
              "      <td>NaN</td>\n",
              "    </tr>\n",
              "    <tr>\n",
              "      <th>98</th>\n",
              "      <td>-0.207253</td>\n",
              "      <td>-0.428760</td>\n",
              "      <td>-2.058538</td>\n",
              "      <td>NaN</td>\n",
              "    </tr>\n",
              "    <tr>\n",
              "      <th>99</th>\n",
              "      <td>0.154417</td>\n",
              "      <td>-1.049905</td>\n",
              "      <td>-0.229660</td>\n",
              "      <td>NaN</td>\n",
              "    </tr>\n",
              "  </tbody>\n",
              "</table>\n",
              "<p>100 rows × 4 columns</p>\n",
              "</div>"
            ],
            "text/plain": [
              "           a         b         c   3\n",
              "0  -0.935313 -1.646714  0.288740 NaN\n",
              "1   0.801716 -0.219507 -2.147780 NaN\n",
              "2   0.912506 -0.133249 -0.921406 NaN\n",
              "3   1.314931 -0.569361  1.144766 NaN\n",
              "4   0.369215 -2.479816 -0.349906 NaN\n",
              "..       ...       ...       ...  ..\n",
              "95  1.035640  0.129676 -0.439380 NaN\n",
              "96 -0.264234 -0.152521  2.035761 NaN\n",
              "97  1.379658  0.848404  1.324203 NaN\n",
              "98 -0.207253 -0.428760 -2.058538 NaN\n",
              "99  0.154417 -1.049905 -0.229660 NaN\n",
              "\n",
              "[100 rows x 4 columns]"
            ]
          },
          "metadata": {
            "tags": []
          },
          "execution_count": 88
        }
      ]
    },
    {
      "cell_type": "code",
      "metadata": {
        "colab": {
          "base_uri": "https://localhost:8080/",
          "height": 419
        },
        "id": "wel_CQZuwK2D",
        "outputId": "2a99671a-6e26-41ac-f2ac-1c978ce656d0"
      },
      "source": [
        "df.fillna(method='ffill', axis=1)"
      ],
      "execution_count": 89,
      "outputs": [
        {
          "output_type": "execute_result",
          "data": {
            "text/html": [
              "<div>\n",
              "<style scoped>\n",
              "    .dataframe tbody tr th:only-of-type {\n",
              "        vertical-align: middle;\n",
              "    }\n",
              "\n",
              "    .dataframe tbody tr th {\n",
              "        vertical-align: top;\n",
              "    }\n",
              "\n",
              "    .dataframe thead th {\n",
              "        text-align: right;\n",
              "    }\n",
              "</style>\n",
              "<table border=\"1\" class=\"dataframe\">\n",
              "  <thead>\n",
              "    <tr style=\"text-align: right;\">\n",
              "      <th></th>\n",
              "      <th>a</th>\n",
              "      <th>b</th>\n",
              "      <th>c</th>\n",
              "      <th>3</th>\n",
              "    </tr>\n",
              "  </thead>\n",
              "  <tbody>\n",
              "    <tr>\n",
              "      <th>0</th>\n",
              "      <td>-0.935313</td>\n",
              "      <td>-1.646714</td>\n",
              "      <td>0.288740</td>\n",
              "      <td>0.288740</td>\n",
              "    </tr>\n",
              "    <tr>\n",
              "      <th>1</th>\n",
              "      <td>0.801716</td>\n",
              "      <td>-0.219507</td>\n",
              "      <td>-2.147780</td>\n",
              "      <td>-2.147780</td>\n",
              "    </tr>\n",
              "    <tr>\n",
              "      <th>2</th>\n",
              "      <td>0.912506</td>\n",
              "      <td>-0.133249</td>\n",
              "      <td>-0.921406</td>\n",
              "      <td>-0.921406</td>\n",
              "    </tr>\n",
              "    <tr>\n",
              "      <th>3</th>\n",
              "      <td>1.314931</td>\n",
              "      <td>-0.569361</td>\n",
              "      <td>1.144766</td>\n",
              "      <td>1.144766</td>\n",
              "    </tr>\n",
              "    <tr>\n",
              "      <th>4</th>\n",
              "      <td>0.369215</td>\n",
              "      <td>-2.479816</td>\n",
              "      <td>-0.349906</td>\n",
              "      <td>-0.349906</td>\n",
              "    </tr>\n",
              "    <tr>\n",
              "      <th>...</th>\n",
              "      <td>...</td>\n",
              "      <td>...</td>\n",
              "      <td>...</td>\n",
              "      <td>...</td>\n",
              "    </tr>\n",
              "    <tr>\n",
              "      <th>95</th>\n",
              "      <td>1.035640</td>\n",
              "      <td>0.129676</td>\n",
              "      <td>-0.439380</td>\n",
              "      <td>-0.439380</td>\n",
              "    </tr>\n",
              "    <tr>\n",
              "      <th>96</th>\n",
              "      <td>-0.264234</td>\n",
              "      <td>-0.152521</td>\n",
              "      <td>2.035761</td>\n",
              "      <td>2.035761</td>\n",
              "    </tr>\n",
              "    <tr>\n",
              "      <th>97</th>\n",
              "      <td>1.379658</td>\n",
              "      <td>0.848404</td>\n",
              "      <td>1.324203</td>\n",
              "      <td>1.324203</td>\n",
              "    </tr>\n",
              "    <tr>\n",
              "      <th>98</th>\n",
              "      <td>-0.207253</td>\n",
              "      <td>-0.428760</td>\n",
              "      <td>-2.058538</td>\n",
              "      <td>-2.058538</td>\n",
              "    </tr>\n",
              "    <tr>\n",
              "      <th>99</th>\n",
              "      <td>0.154417</td>\n",
              "      <td>-1.049905</td>\n",
              "      <td>-0.229660</td>\n",
              "      <td>-0.229660</td>\n",
              "    </tr>\n",
              "  </tbody>\n",
              "</table>\n",
              "<p>100 rows × 4 columns</p>\n",
              "</div>"
            ],
            "text/plain": [
              "           a         b         c         3\n",
              "0  -0.935313 -1.646714  0.288740  0.288740\n",
              "1   0.801716 -0.219507 -2.147780 -2.147780\n",
              "2   0.912506 -0.133249 -0.921406 -0.921406\n",
              "3   1.314931 -0.569361  1.144766  1.144766\n",
              "4   0.369215 -2.479816 -0.349906 -0.349906\n",
              "..       ...       ...       ...       ...\n",
              "95  1.035640  0.129676 -0.439380 -0.439380\n",
              "96 -0.264234 -0.152521  2.035761  2.035761\n",
              "97  1.379658  0.848404  1.324203  1.324203\n",
              "98 -0.207253 -0.428760 -2.058538 -2.058538\n",
              "99  0.154417 -1.049905 -0.229660 -0.229660\n",
              "\n",
              "[100 rows x 4 columns]"
            ]
          },
          "metadata": {
            "tags": []
          },
          "execution_count": 89
        }
      ]
    },
    {
      "cell_type": "code",
      "metadata": {
        "colab": {
          "base_uri": "https://localhost:8080/",
          "height": 419
        },
        "id": "DEPg81ULwQoS",
        "outputId": "60f7510b-6ed4-497e-dddf-1f96c7fda528"
      },
      "source": [
        "df.fillna(method='bfill', axis=0)"
      ],
      "execution_count": 90,
      "outputs": [
        {
          "output_type": "execute_result",
          "data": {
            "text/html": [
              "<div>\n",
              "<style scoped>\n",
              "    .dataframe tbody tr th:only-of-type {\n",
              "        vertical-align: middle;\n",
              "    }\n",
              "\n",
              "    .dataframe tbody tr th {\n",
              "        vertical-align: top;\n",
              "    }\n",
              "\n",
              "    .dataframe thead th {\n",
              "        text-align: right;\n",
              "    }\n",
              "</style>\n",
              "<table border=\"1\" class=\"dataframe\">\n",
              "  <thead>\n",
              "    <tr style=\"text-align: right;\">\n",
              "      <th></th>\n",
              "      <th>a</th>\n",
              "      <th>b</th>\n",
              "      <th>c</th>\n",
              "      <th>3</th>\n",
              "    </tr>\n",
              "  </thead>\n",
              "  <tbody>\n",
              "    <tr>\n",
              "      <th>0</th>\n",
              "      <td>-0.935313</td>\n",
              "      <td>-1.646714</td>\n",
              "      <td>0.288740</td>\n",
              "      <td>NaN</td>\n",
              "    </tr>\n",
              "    <tr>\n",
              "      <th>1</th>\n",
              "      <td>0.801716</td>\n",
              "      <td>-0.219507</td>\n",
              "      <td>-2.147780</td>\n",
              "      <td>NaN</td>\n",
              "    </tr>\n",
              "    <tr>\n",
              "      <th>2</th>\n",
              "      <td>0.912506</td>\n",
              "      <td>-0.133249</td>\n",
              "      <td>-0.921406</td>\n",
              "      <td>NaN</td>\n",
              "    </tr>\n",
              "    <tr>\n",
              "      <th>3</th>\n",
              "      <td>1.314931</td>\n",
              "      <td>-0.569361</td>\n",
              "      <td>1.144766</td>\n",
              "      <td>NaN</td>\n",
              "    </tr>\n",
              "    <tr>\n",
              "      <th>4</th>\n",
              "      <td>0.369215</td>\n",
              "      <td>-2.479816</td>\n",
              "      <td>-0.349906</td>\n",
              "      <td>NaN</td>\n",
              "    </tr>\n",
              "    <tr>\n",
              "      <th>...</th>\n",
              "      <td>...</td>\n",
              "      <td>...</td>\n",
              "      <td>...</td>\n",
              "      <td>...</td>\n",
              "    </tr>\n",
              "    <tr>\n",
              "      <th>95</th>\n",
              "      <td>1.035640</td>\n",
              "      <td>0.129676</td>\n",
              "      <td>-0.439380</td>\n",
              "      <td>NaN</td>\n",
              "    </tr>\n",
              "    <tr>\n",
              "      <th>96</th>\n",
              "      <td>-0.264234</td>\n",
              "      <td>-0.152521</td>\n",
              "      <td>2.035761</td>\n",
              "      <td>NaN</td>\n",
              "    </tr>\n",
              "    <tr>\n",
              "      <th>97</th>\n",
              "      <td>1.379658</td>\n",
              "      <td>0.848404</td>\n",
              "      <td>1.324203</td>\n",
              "      <td>NaN</td>\n",
              "    </tr>\n",
              "    <tr>\n",
              "      <th>98</th>\n",
              "      <td>-0.207253</td>\n",
              "      <td>-0.428760</td>\n",
              "      <td>-2.058538</td>\n",
              "      <td>NaN</td>\n",
              "    </tr>\n",
              "    <tr>\n",
              "      <th>99</th>\n",
              "      <td>0.154417</td>\n",
              "      <td>-1.049905</td>\n",
              "      <td>-0.229660</td>\n",
              "      <td>NaN</td>\n",
              "    </tr>\n",
              "  </tbody>\n",
              "</table>\n",
              "<p>100 rows × 4 columns</p>\n",
              "</div>"
            ],
            "text/plain": [
              "           a         b         c   3\n",
              "0  -0.935313 -1.646714  0.288740 NaN\n",
              "1   0.801716 -0.219507 -2.147780 NaN\n",
              "2   0.912506 -0.133249 -0.921406 NaN\n",
              "3   1.314931 -0.569361  1.144766 NaN\n",
              "4   0.369215 -2.479816 -0.349906 NaN\n",
              "..       ...       ...       ...  ..\n",
              "95  1.035640  0.129676 -0.439380 NaN\n",
              "96 -0.264234 -0.152521  2.035761 NaN\n",
              "97  1.379658  0.848404  1.324203 NaN\n",
              "98 -0.207253 -0.428760 -2.058538 NaN\n",
              "99  0.154417 -1.049905 -0.229660 NaN\n",
              "\n",
              "[100 rows x 4 columns]"
            ]
          },
          "metadata": {
            "tags": []
          },
          "execution_count": 90
        }
      ]
    },
    {
      "cell_type": "code",
      "metadata": {
        "colab": {
          "base_uri": "https://localhost:8080/",
          "height": 419
        },
        "id": "fHQwRuCCwgC7",
        "outputId": "33675030-fc45-45ae-cbe6-40930850e026"
      },
      "source": [
        "df.fillna(method='bfill', axis=1)"
      ],
      "execution_count": 91,
      "outputs": [
        {
          "output_type": "execute_result",
          "data": {
            "text/html": [
              "<div>\n",
              "<style scoped>\n",
              "    .dataframe tbody tr th:only-of-type {\n",
              "        vertical-align: middle;\n",
              "    }\n",
              "\n",
              "    .dataframe tbody tr th {\n",
              "        vertical-align: top;\n",
              "    }\n",
              "\n",
              "    .dataframe thead th {\n",
              "        text-align: right;\n",
              "    }\n",
              "</style>\n",
              "<table border=\"1\" class=\"dataframe\">\n",
              "  <thead>\n",
              "    <tr style=\"text-align: right;\">\n",
              "      <th></th>\n",
              "      <th>a</th>\n",
              "      <th>b</th>\n",
              "      <th>c</th>\n",
              "      <th>3</th>\n",
              "    </tr>\n",
              "  </thead>\n",
              "  <tbody>\n",
              "    <tr>\n",
              "      <th>0</th>\n",
              "      <td>-0.935313</td>\n",
              "      <td>-1.646714</td>\n",
              "      <td>0.288740</td>\n",
              "      <td>NaN</td>\n",
              "    </tr>\n",
              "    <tr>\n",
              "      <th>1</th>\n",
              "      <td>0.801716</td>\n",
              "      <td>-0.219507</td>\n",
              "      <td>-2.147780</td>\n",
              "      <td>NaN</td>\n",
              "    </tr>\n",
              "    <tr>\n",
              "      <th>2</th>\n",
              "      <td>0.912506</td>\n",
              "      <td>-0.133249</td>\n",
              "      <td>-0.921406</td>\n",
              "      <td>NaN</td>\n",
              "    </tr>\n",
              "    <tr>\n",
              "      <th>3</th>\n",
              "      <td>1.314931</td>\n",
              "      <td>-0.569361</td>\n",
              "      <td>1.144766</td>\n",
              "      <td>NaN</td>\n",
              "    </tr>\n",
              "    <tr>\n",
              "      <th>4</th>\n",
              "      <td>0.369215</td>\n",
              "      <td>-2.479816</td>\n",
              "      <td>-0.349906</td>\n",
              "      <td>NaN</td>\n",
              "    </tr>\n",
              "    <tr>\n",
              "      <th>...</th>\n",
              "      <td>...</td>\n",
              "      <td>...</td>\n",
              "      <td>...</td>\n",
              "      <td>...</td>\n",
              "    </tr>\n",
              "    <tr>\n",
              "      <th>95</th>\n",
              "      <td>1.035640</td>\n",
              "      <td>0.129676</td>\n",
              "      <td>-0.439380</td>\n",
              "      <td>NaN</td>\n",
              "    </tr>\n",
              "    <tr>\n",
              "      <th>96</th>\n",
              "      <td>-0.264234</td>\n",
              "      <td>-0.152521</td>\n",
              "      <td>2.035761</td>\n",
              "      <td>NaN</td>\n",
              "    </tr>\n",
              "    <tr>\n",
              "      <th>97</th>\n",
              "      <td>1.379658</td>\n",
              "      <td>0.848404</td>\n",
              "      <td>1.324203</td>\n",
              "      <td>NaN</td>\n",
              "    </tr>\n",
              "    <tr>\n",
              "      <th>98</th>\n",
              "      <td>-0.207253</td>\n",
              "      <td>-0.428760</td>\n",
              "      <td>-2.058538</td>\n",
              "      <td>NaN</td>\n",
              "    </tr>\n",
              "    <tr>\n",
              "      <th>99</th>\n",
              "      <td>0.154417</td>\n",
              "      <td>-1.049905</td>\n",
              "      <td>-0.229660</td>\n",
              "      <td>NaN</td>\n",
              "    </tr>\n",
              "  </tbody>\n",
              "</table>\n",
              "<p>100 rows × 4 columns</p>\n",
              "</div>"
            ],
            "text/plain": [
              "           a         b         c   3\n",
              "0  -0.935313 -1.646714  0.288740 NaN\n",
              "1   0.801716 -0.219507 -2.147780 NaN\n",
              "2   0.912506 -0.133249 -0.921406 NaN\n",
              "3   1.314931 -0.569361  1.144766 NaN\n",
              "4   0.369215 -2.479816 -0.349906 NaN\n",
              "..       ...       ...       ...  ..\n",
              "95  1.035640  0.129676 -0.439380 NaN\n",
              "96 -0.264234 -0.152521  2.035761 NaN\n",
              "97  1.379658  0.848404  1.324203 NaN\n",
              "98 -0.207253 -0.428760 -2.058538 NaN\n",
              "99  0.154417 -1.049905 -0.229660 NaN\n",
              "\n",
              "[100 rows x 4 columns]"
            ]
          },
          "metadata": {
            "tags": []
          },
          "execution_count": 91
        }
      ]
    },
    {
      "cell_type": "markdown",
      "metadata": {
        "id": "Mp--bQFcwvgq"
      },
      "source": [
        "## 중복 제거"
      ]
    },
    {
      "cell_type": "code",
      "metadata": {
        "colab": {
          "base_uri": "https://localhost:8080/",
          "height": 297
        },
        "id": "H2_LOeeHwgxj",
        "outputId": "9c43ee0d-ea9a-4de9-ffd3-1a50b8a141e7"
      },
      "source": [
        "df = pd.DataFrame({'c1': ['a', 'b', 'c'] * 2 + ['b'] + ['c'],\n",
        "                   'c2': [1, 2, 1, 1, 2, 3, 3, 4]})\n",
        "df"
      ],
      "execution_count": 92,
      "outputs": [
        {
          "output_type": "execute_result",
          "data": {
            "text/html": [
              "<div>\n",
              "<style scoped>\n",
              "    .dataframe tbody tr th:only-of-type {\n",
              "        vertical-align: middle;\n",
              "    }\n",
              "\n",
              "    .dataframe tbody tr th {\n",
              "        vertical-align: top;\n",
              "    }\n",
              "\n",
              "    .dataframe thead th {\n",
              "        text-align: right;\n",
              "    }\n",
              "</style>\n",
              "<table border=\"1\" class=\"dataframe\">\n",
              "  <thead>\n",
              "    <tr style=\"text-align: right;\">\n",
              "      <th></th>\n",
              "      <th>c1</th>\n",
              "      <th>c2</th>\n",
              "    </tr>\n",
              "  </thead>\n",
              "  <tbody>\n",
              "    <tr>\n",
              "      <th>0</th>\n",
              "      <td>a</td>\n",
              "      <td>1</td>\n",
              "    </tr>\n",
              "    <tr>\n",
              "      <th>1</th>\n",
              "      <td>b</td>\n",
              "      <td>2</td>\n",
              "    </tr>\n",
              "    <tr>\n",
              "      <th>2</th>\n",
              "      <td>c</td>\n",
              "      <td>1</td>\n",
              "    </tr>\n",
              "    <tr>\n",
              "      <th>3</th>\n",
              "      <td>a</td>\n",
              "      <td>1</td>\n",
              "    </tr>\n",
              "    <tr>\n",
              "      <th>4</th>\n",
              "      <td>b</td>\n",
              "      <td>2</td>\n",
              "    </tr>\n",
              "    <tr>\n",
              "      <th>5</th>\n",
              "      <td>c</td>\n",
              "      <td>3</td>\n",
              "    </tr>\n",
              "    <tr>\n",
              "      <th>6</th>\n",
              "      <td>b</td>\n",
              "      <td>3</td>\n",
              "    </tr>\n",
              "    <tr>\n",
              "      <th>7</th>\n",
              "      <td>c</td>\n",
              "      <td>4</td>\n",
              "    </tr>\n",
              "  </tbody>\n",
              "</table>\n",
              "</div>"
            ],
            "text/plain": [
              "  c1  c2\n",
              "0  a   1\n",
              "1  b   2\n",
              "2  c   1\n",
              "3  a   1\n",
              "4  b   2\n",
              "5  c   3\n",
              "6  b   3\n",
              "7  c   4"
            ]
          },
          "metadata": {
            "tags": []
          },
          "execution_count": 92
        }
      ]
    },
    {
      "cell_type": "code",
      "metadata": {
        "colab": {
          "base_uri": "https://localhost:8080/"
        },
        "id": "6cZ41x63xXYw",
        "outputId": "9433ca8b-f6fc-43b0-d227-f9aeadc954f4"
      },
      "source": [
        "df.duplicated()\n",
        "# 중복을 알려주는 메소드"
      ],
      "execution_count": 93,
      "outputs": [
        {
          "output_type": "execute_result",
          "data": {
            "text/plain": [
              "0    False\n",
              "1    False\n",
              "2    False\n",
              "3     True\n",
              "4     True\n",
              "5    False\n",
              "6    False\n",
              "7    False\n",
              "dtype: bool"
            ]
          },
          "metadata": {
            "tags": []
          },
          "execution_count": 93
        }
      ]
    },
    {
      "cell_type": "code",
      "metadata": {
        "colab": {
          "base_uri": "https://localhost:8080/",
          "height": 235
        },
        "id": "tynLvqHOxfKj",
        "outputId": "766b6d06-70da-4dba-cb08-4b90f87e8bba"
      },
      "source": [
        "df.drop_duplicates()\n",
        "# 중복을 제거"
      ],
      "execution_count": 94,
      "outputs": [
        {
          "output_type": "execute_result",
          "data": {
            "text/html": [
              "<div>\n",
              "<style scoped>\n",
              "    .dataframe tbody tr th:only-of-type {\n",
              "        vertical-align: middle;\n",
              "    }\n",
              "\n",
              "    .dataframe tbody tr th {\n",
              "        vertical-align: top;\n",
              "    }\n",
              "\n",
              "    .dataframe thead th {\n",
              "        text-align: right;\n",
              "    }\n",
              "</style>\n",
              "<table border=\"1\" class=\"dataframe\">\n",
              "  <thead>\n",
              "    <tr style=\"text-align: right;\">\n",
              "      <th></th>\n",
              "      <th>c1</th>\n",
              "      <th>c2</th>\n",
              "    </tr>\n",
              "  </thead>\n",
              "  <tbody>\n",
              "    <tr>\n",
              "      <th>0</th>\n",
              "      <td>a</td>\n",
              "      <td>1</td>\n",
              "    </tr>\n",
              "    <tr>\n",
              "      <th>1</th>\n",
              "      <td>b</td>\n",
              "      <td>2</td>\n",
              "    </tr>\n",
              "    <tr>\n",
              "      <th>2</th>\n",
              "      <td>c</td>\n",
              "      <td>1</td>\n",
              "    </tr>\n",
              "    <tr>\n",
              "      <th>5</th>\n",
              "      <td>c</td>\n",
              "      <td>3</td>\n",
              "    </tr>\n",
              "    <tr>\n",
              "      <th>6</th>\n",
              "      <td>b</td>\n",
              "      <td>3</td>\n",
              "    </tr>\n",
              "    <tr>\n",
              "      <th>7</th>\n",
              "      <td>c</td>\n",
              "      <td>4</td>\n",
              "    </tr>\n",
              "  </tbody>\n",
              "</table>\n",
              "</div>"
            ],
            "text/plain": [
              "  c1  c2\n",
              "0  a   1\n",
              "1  b   2\n",
              "2  c   1\n",
              "5  c   3\n",
              "6  b   3\n",
              "7  c   4"
            ]
          },
          "metadata": {
            "tags": []
          },
          "execution_count": 94
        }
      ]
    },
    {
      "cell_type": "markdown",
      "metadata": {
        "id": "uYjDJYeNx6OL"
      },
      "source": [
        "## 값 치환"
      ]
    },
    {
      "cell_type": "code",
      "metadata": {
        "colab": {
          "base_uri": "https://localhost:8080/"
        },
        "id": "mKyjXwQaxuC7",
        "outputId": "4d1a5990-5d46-4e42-a14d-13e5e4935e78"
      },
      "source": [
        "s = pd.Series([1., 2., -999., 3., -1000., 4.])\n",
        "s"
      ],
      "execution_count": 95,
      "outputs": [
        {
          "output_type": "execute_result",
          "data": {
            "text/plain": [
              "0       1.0\n",
              "1       2.0\n",
              "2    -999.0\n",
              "3       3.0\n",
              "4   -1000.0\n",
              "5       4.0\n",
              "dtype: float64"
            ]
          },
          "metadata": {
            "tags": []
          },
          "execution_count": 95
        }
      ]
    },
    {
      "cell_type": "code",
      "metadata": {
        "colab": {
          "base_uri": "https://localhost:8080/"
        },
        "id": "KJFCCeddyK1j",
        "outputId": "9d6c0dcb-64a7-48ef-9d4c-8e1c11396c15"
      },
      "source": [
        "s.replace(-999, np.nan)"
      ],
      "execution_count": 96,
      "outputs": [
        {
          "output_type": "execute_result",
          "data": {
            "text/plain": [
              "0       1.0\n",
              "1       2.0\n",
              "2       NaN\n",
              "3       3.0\n",
              "4   -1000.0\n",
              "5       4.0\n",
              "dtype: float64"
            ]
          },
          "metadata": {
            "tags": []
          },
          "execution_count": 96
        }
      ]
    },
    {
      "cell_type": "code",
      "metadata": {
        "colab": {
          "base_uri": "https://localhost:8080/"
        },
        "id": "mJPtmLTtycn6",
        "outputId": "7380f9d9-f542-446d-eef3-5a6b2c2a50cc"
      },
      "source": [
        "s.replace([-999, -1000], np.nan)"
      ],
      "execution_count": 97,
      "outputs": [
        {
          "output_type": "execute_result",
          "data": {
            "text/plain": [
              "0    1.0\n",
              "1    2.0\n",
              "2    NaN\n",
              "3    3.0\n",
              "4    NaN\n",
              "5    4.0\n",
              "dtype: float64"
            ]
          },
          "metadata": {
            "tags": []
          },
          "execution_count": 97
        }
      ]
    },
    {
      "cell_type": "code",
      "metadata": {
        "colab": {
          "base_uri": "https://localhost:8080/"
        },
        "id": "3DudnPCyyi0h",
        "outputId": "e6059392-fe40-4ae2-d09d-ac3cb33f1379"
      },
      "source": [
        "s.replace([-999, -1000], [np.nan, 0])"
      ],
      "execution_count": 98,
      "outputs": [
        {
          "output_type": "execute_result",
          "data": {
            "text/plain": [
              "0    1.0\n",
              "1    2.0\n",
              "2    NaN\n",
              "3    3.0\n",
              "4    0.0\n",
              "5    4.0\n",
              "dtype: float64"
            ]
          },
          "metadata": {
            "tags": []
          },
          "execution_count": 98
        }
      ]
    },
    {
      "cell_type": "code",
      "metadata": {
        "id": "-B3MLxifypZM"
      },
      "source": [
        ""
      ],
      "execution_count": null,
      "outputs": []
    }
  ]
}