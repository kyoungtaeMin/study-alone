{
 "cells": [
  {
   "cell_type": "code",
   "execution_count": 4,
   "metadata": {
    "scrolled": false
   },
   "outputs": [
    {
     "output_type": "stream",
     "name": "stdout",
     "text": [
      "AI의 모든 것 알아보기...인공지능·머신러닝·딥러닝·데이터마이닝 ...\nhttps://www.codingworldnews.com/article/view/2951\n\n머신러닝 기법 활용 체중 감량 예측…치료율 향상 기대\nhttp://www.akomnews.com/bbs/board.php?bo_table=news&wr_id=43769\n\n비전공자도 이해할 수 있는 머신러닝 개념\nhttps://www.codingworldnews.com/article/view/2886\n\n머신 러닝 칩 2028 년까지 시장 분석 및 정확한 전망 – DGPOST\nhttp://www.dgpost.kr/2021/03/23/%EB%A8%B8%EC%8B%A0-%EB%9F%AC%EB%8B%9D-%EC%B9%A9-2028-%EB%85%84%EA%B9%8C%EC%A7%80-%EC%8B%9C%EC%9E%A5-%EB%B6%84%EC%84%9D-%EB%B0%8F-%EC%A0%95%ED%99%95%ED%95%9C-%EC%A0%84%EB%A7%9D/\n\n인공지능·머신러닝·딥러닝, 무엇이 다를까?\nhttps://www.codingworldnews.com/article/view/2786\n\n부산銀, 머신러닝으로 맞춤형 대출 추천 'ONE신용대출'\nhttps://www.etnews.com/20210322000172\n\n[기고] 황금기 맞은 머신러닝, 늦기 전에 준비해야 할 네가지\nhttps://www.donga.com/news/It/article/all/20210315/105891152/1\n\n유니티, ROS 지원 '인공지능 및 머신러닝' 기능 공개\nhttp://www.irobotnews.com/news/articleView.html?idxno=24113\n\n통신 시장 개요 2021-2028의 빅 데이터 및 머신 러닝 : Google ...\nhttps://www.cmnonline.co.kr/2021/03/19/%ED%86%B5%EC%8B%A0-%EC%8B%9C%EC%9E%A5-%EA%B0%9C%EC%9A%94-2021-2028%EC%9D%98-%EB%B9%85-%EB%8D%B0%EC%9D%B4%ED%84%B0-%EB%B0%8F-%EB%A8%B8%EC%8B%A0-%EB%9F%AC%EB%8B%9D-google-at-t-apple/\n\n자동화 머신 러닝 시장 2021에 대한 종합 보고서 | 2027 년 규모 ...\nhttps://jmmagazine.co.kr/news/323615/%EC%9E%90%EB%8F%99%ED%99%94-%EB%A8%B8%EC%8B%A0-%EB%9F%AC%EB%8B%9D-%EC%8B%9C%EC%9E%A5-2021%EC%97%90-%EB%8C%80%ED%95%9C-%EC%A2%85%ED%95%A9-%EB%B3%B4%EA%B3%A0%EC%84%9C-2027-%EB%85%84-%EA%B7%9C/\n\n"
     ]
    }
   ],
   "source": [
    "from urllib.parse import quote_plus\n",
    "from bs4 import BeautifulSoup\n",
    "from selenium import webdriver\n",
    "\n",
    "baseurl = 'https://www.google.com/search?source=lnms&tbm=nws&q='\n",
    "plusurl = input('무엇을 검색하시겠습니까? :')\n",
    "url = baseurl + quote_plus(plusurl)\n",
    "\n",
    "#pagenum = 1\n",
    "\n",
    "driver = webdriver.Chrome('./chromedriver.exe')\n",
    "driver.get(url)\n",
    "\n",
    "html = driver.page_source\n",
    "soup = BeautifulSoup(html)\n",
    "\n",
    "dbsr = soup.select('.dbsr')\n",
    "\n",
    "for i in dbsr :\n",
    "    print(i.select_one('.JheGif.nDgy9d').text)\n",
    "    print(i.a.attrs['href'])\n",
    "    print()\n",
    "\n",
    "driver.close()"
   ]
  },
  {
   "cell_type": "code",
   "execution_count": null,
   "metadata": {},
   "outputs": [],
   "source": []
  },
  {
   "cell_type": "code",
   "execution_count": null,
   "metadata": {},
   "outputs": [],
   "source": []
  },
  {
   "cell_type": "code",
   "execution_count": null,
   "metadata": {},
   "outputs": [],
   "source": []
  },
  {
   "cell_type": "code",
   "execution_count": null,
   "metadata": {},
   "outputs": [],
   "source": []
  },
  {
   "cell_type": "code",
   "execution_count": null,
   "metadata": {},
   "outputs": [],
   "source": []
  },
  {
   "cell_type": "code",
   "execution_count": 2,
   "metadata": {},
   "outputs": [
    {
     "output_type": "stream",
     "name": "stdout",
     "text": [
      "후끈 달아오른 ‘개발자 모시기’…카카오커머스 “신입도 1억 스톡”\nhttp://www.hani.co.kr/arti/economy/it/987696.html\n카카오커머스, 개발자 공개채용 \"1억원 스톡옵션 지급\"\nhttps://view.asiae.co.kr/article/2021032210210070944\n아이온, 클래식 서버 1.7 개발자 노트 공개\nhttp://www.inven.co.kr/webzine/news/?news=253413&site=aion\n페이스북, 올해 개발자 행사 온라인으로 재개\nhttps://zdnet.co.kr/view/?no=20210324063819\nAI서비스, 개발자 없이 3일만에 뚝딱…\"정부지원도 7천만원\"\nhttp://news.mt.co.kr/mtview.php?no=2021032310391990129\n[집중취재M] 개발자 뽑고 사무직 내보내고…일자리도 양극화\nhttps://imnews.imbc.com/replay/2021/nwdesk/article/6127547_34936.html\n[크랩] 테슬라보다 30년 빨랐던 자율주행차, 개발자 만나봄\nhttp://news.kbs.co.kr/news/view.do?ncd=5145667&ref=A\n[IT개발자 구인난] ㊦ '산학협동-인력양성' 절실...\"졸업후 곧바로 현장투입 가능해야\"\nhttp://www.opinionnews.co.kr/news/articleView.html?idxno=47922\n[집중취재M] 신입에게도 주식 1억 원…IT 개발자 몸값 폭등\nhttps://imnews.imbc.com/replay/2021/nwdesk/article/6127504_34936.html\n개발자 수십명 권고사직…한글과컴퓨터 17년 만에 노조 재설립\nhttp://www.hani.co.kr/arti/society/labor/987927.html\n"
     ]
    }
   ],
   "source": [
    "import urllib.request\n",
    "import urllib.parse\n",
    "from bs4 import BeautifulSoup\n",
    "import csv\n",
    "\n",
    "baseurl = 'https://search.naver.com/search.naver?sm=tab_hty.top&where=news&query='\n",
    "plusurl = input('무엇을 검색하시겠습니까? :')\n",
    "url = baseurl + urllib.parse.quote_plus(plusurl)\n",
    "html = urllib.request.urlopen(url).read()\n",
    "soup = BeautifulSoup(html, 'html.parser')\n",
    "\n",
    "title = soup.find_all(class_='news_tit')\n",
    "\n",
    "for i in title:\n",
    "    print(i.attrs['title'])\n",
    "    print(i.attrs['href'])\n"
   ]
  },
  {
   "cell_type": "code",
   "execution_count": null,
   "metadata": {},
   "outputs": [],
   "source": []
  }
 ],
 "metadata": {
  "kernelspec": {
   "display_name": "Python 3",
   "language": "python",
   "name": "python3"
  },
  "language_info": {
   "codemirror_mode": {
    "name": "ipython",
    "version": 3
   },
   "file_extension": ".py",
   "mimetype": "text/x-python",
   "name": "python",
   "nbconvert_exporter": "python",
   "pygments_lexer": "ipython3",
   "version": "3.8.8-final"
  }
 },
 "nbformat": 4,
 "nbformat_minor": 4
}